{
 "cells": [
  {
   "cell_type": "markdown",
   "id": "c9ddde54",
   "metadata": {},
   "source": [
    "<div style=\"border:solid green 2px; padding: 20px\">\n",
    "    \n",
    "<b>Hello!</b> We're glad to see you in code-reviewer territory. You've done a great job on the project, but let's get to know each other and make it even better! We have our own atmosphere here and a few rules:\n",
    "\n",
    "\n",
    "1.  I work as a code reviewer, and my main goal is not to point out your mistakes, but to share my experience and help you become a data analyst.\n",
    "2. We speak on a first-come-first-served basis.\n",
    "3. if you want to write or ask a question, don't be shy. Just choose your color for your comment.  \n",
    "4. this is a training project, you don't have to be afraid of making a mistake.  \n",
    "5. You have an unlimited number of attempts to pass the project.  \n",
    "6. Let's Go!\n",
    "\n",
    "\n",
    "---\n",
    "I'll be color-coding comments, please don't delete them:\n",
    "\n",
    "<div class=\"alert alert-block alert-danger\">✍\n",
    "    \n",
    "\n",
    "__Reviewer's comment №1__\n",
    "\n",
    "Needs fixing. The block requires some corrections. Work can't be accepted with the red comments.\n",
    "</div>\n",
    "    \n",
    "---\n",
    "\n",
    "<div class=\"alert alert-block alert-warning\">📝\n",
    "    \n",
    "\n",
    "__Reviewer's comment №1__\n",
    "\n",
    "\n",
    "Remarks. Some recommendations.\n",
    "</div>\n",
    "\n",
    "---\n",
    "\n",
    "<div class=\"alert alert-block alert-success\">✔️\n",
    "    \n",
    "\n",
    "__Reviewer's comment №1__\n",
    "\n",
    "Success. Everything is done succesfully.\n",
    "</div>\n",
    "    \n",
    "---\n",
    "    \n",
    "I suggest that we work on the project in dialogue: if you change something in the project or respond to my comments, write about it. It will be easier for me to track changes if you highlight your comments:   \n",
    "    \n",
    "<div class=\"alert alert-info\"> <b>Student сomments:</b> Student answer..</div>\n",
    "    \n",
    "All this will help to make the recheck of your project faster. If you have any questions about my comments, let me know, we'll figure it out together :)   \n",
    "    \n",
    "---"
   ]
  },
  {
   "cell_type": "markdown",
   "id": "230e6fd5",
   "metadata": {},
   "source": [
    "<div class=\"alert alert-block alert-danger\">✍\n",
    "    \n",
    "\n",
    "__Reviewer's comment №1__\n",
    "\n",
    "An excellent practice is to describe the goal and main steps in your own words (a skill that will help a lot on a final project). It would be good to add the progress and purpose of the study."
   ]
  },
  {
   "cell_type": "markdown",
   "id": "2888c37c",
   "metadata": {},
   "source": []
  },
  {
   "cell_type": "markdown",
   "id": "acb435d5",
   "metadata": {},
   "source": [
    "<div class=\"alert alert-block alert-warning\">📝\n",
    "    \n",
    "\n",
    "__Reviewer's comment №6__\n",
    "\n",
    "please see an example\n",
    "    \n",
    "For this project, you’ll work with data from Instacart.\n",
    "\n",
    "Instacart is a grocery delivery platform where customers can place a grocery order and have it delivered to them, similar to how Uber Eats and Door Dash work. This particular dataset was publicly released by Instacart in 2017 for a Kaggle competition.\n",
    "\n",
    "Your mission is to clean up the data and prepare a report that gives insight into the shopping habits of Instacart customers.\n",
    "\n",
    "</div>"
   ]
  },
  {
   "cell_type": "markdown",
   "id": "07357848-dc64-4156-9cc3-01ff4365226d",
   "metadata": {},
   "source": [
    "## Find and remove duplicate values (and describe why you make your choices)"
   ]
  },
  {
   "cell_type": "markdown",
   "id": "f179f0a9",
   "metadata": {},
   "source": [
    "### `orders` data frame"
   ]
  },
  {
   "cell_type": "code",
   "execution_count": 4,
   "id": "b99297a5-405a-463d-8535-9adc3da4ad74",
   "metadata": {
    "scrolled": false
   },
   "outputs": [
    {
     "name": "stdout",
     "output_type": "stream",
     "text": [
      "   order_id  user_id  order_number  order_dow  order_hour_of_day  \\\n",
      "0   1515936   183418            11          6                 13   \n",
      "1   1690866   163593             5          5                 12   \n",
      "2   1454967    39980             4          5                 19   \n",
      "3   1768857    82516            56          0                 20   \n",
      "4   3007858   196724             2          4                 12   \n",
      "5   1843871    20084             5          0                 11   \n",
      "6   2511640   148233            40          3                  8   \n",
      "7   2521283    97711             2          0                 18   \n",
      "8   2266494    34954            40          5                 15   \n",
      "9    446014    15356             2          4                  8   \n",
      "\n",
      "   days_since_prior_order  \n",
      "0                    30.0  \n",
      "1                     9.0  \n",
      "2                     2.0  \n",
      "3                    10.0  \n",
      "4                    17.0  \n",
      "5                    15.0  \n",
      "6                     2.0  \n",
      "7                    22.0  \n",
      "8                     4.0  \n",
      "9                    10.0  \n",
      "Number of duplicated rows: 15\n"
     ]
    }
   ],
   "source": [
    "# Check for duplicated orders\n",
    "\n",
    "import pandas as pd \n",
    "import matplotlib.pyplot as plt\n",
    "\n",
    "\n",
    "\n",
    "orders = pd.read_csv('/datasets/instacart_orders.csv', sep = ';')\n",
    "\n",
    "products = pd.read_csv('/datasets/products.csv', sep = ';')\n",
    "\n",
    "departments = pd.read_csv('/datasets/departments.csv',sep = ';')\n",
    "\n",
    "aisle = pd.read_csv('/datasets/aisles.csv', sep = ';' )\n",
    "\n",
    "order_products = pd.read_csv('/datasets/order_products.csv', sep = ';' )\n",
    "\n",
    "\n",
    "\n",
    "\n",
    "\n",
    "\n",
    "print(orders.head(10))\n",
    "\n",
    "duplicate_count = orders.duplicated().sum()\n",
    "\n",
    "print(f\"Number of duplicated rows: {duplicate_count}\")"
   ]
  },
  {
   "cell_type": "markdown",
   "id": "222abc08",
   "metadata": {},
   "source": [
    "<div class=\"alert alert-block alert-warning\">📝\n",
    "    \n",
    "\n",
    "__Reviewer's comment №1__\n",
    "\n",
    "All necessary libraries should be unloaded at the beginning of the project in one code cell"
   ]
  },
  {
   "cell_type": "code",
   "execution_count": 2,
   "id": "0d44de5d",
   "metadata": {},
   "outputs": [
    {
     "name": "stdout",
     "output_type": "stream",
     "text": [
      "Orders placed on Wednesday at 2:00 AM:\n",
      "        order_id  user_id  order_number  order_dow  order_hour_of_day  \\\n",
      "4838     2766110   162084            41          3                  2   \n",
      "5156     2190225   138285            18          3                  2   \n",
      "15506     553049    58599            13          3                  2   \n",
      "18420     382357   120200            19          3                  2   \n",
      "24691     690242    77357             2          3                  2   \n",
      "...          ...      ...           ...        ...                ...   \n",
      "457013   3384021    14881             6          3                  2   \n",
      "458816    910166   164782            18          3                  2   \n",
      "459635   1680532   106435             6          3                  2   \n",
      "468324    222962    54979            59          3                  2   \n",
      "477526   2592344    46860            38          3                  2   \n",
      "\n",
      "        days_since_prior_order  \n",
      "4838                      16.0  \n",
      "5156                      11.0  \n",
      "15506                      7.0  \n",
      "18420                     11.0  \n",
      "24691                      9.0  \n",
      "...                        ...  \n",
      "457013                    30.0  \n",
      "458816                     4.0  \n",
      "459635                    21.0  \n",
      "468324                     3.0  \n",
      "477526                     3.0  \n",
      "\n",
      "[121 rows x 6 columns]\n"
     ]
    }
   ],
   "source": [
    "# Check for all orders placed Wednesday at 2:00 AM\n",
    "\n",
    "\n",
    "wednesday_2am_orders = orders[(orders['order_dow'] == 3) & (orders['order_hour_of_day'] == 2)]\n",
    "\n",
    "print(\"Orders placed on Wednesday at 2:00 AM:\")\n",
    "print(wednesday_2am_orders)\n",
    "\n"
   ]
  },
  {
   "cell_type": "code",
   "execution_count": 3,
   "id": "0b2396a2",
   "metadata": {
    "scrolled": true
   },
   "outputs": [
    {
     "name": "stdout",
     "output_type": "stream",
     "text": [
      "15\n"
     ]
    }
   ],
   "source": [
    "# Double check for duplicate rows\n",
    "\n",
    "\n",
    "df_check = orders.duplicated().sum()\n",
    "\n",
    "print(df_check)\n"
   ]
  },
  {
   "cell_type": "code",
   "execution_count": 4,
   "id": "480563c7",
   "metadata": {
    "scrolled": true
   },
   "outputs": [
    {
     "name": "stdout",
     "output_type": "stream",
     "text": [
      "0\n"
     ]
    }
   ],
   "source": [
    "# Remove duplicate orders\n",
    "\n",
    "\n",
    "remove_dublicates = orders['user_id'].drop_duplicates()\n",
    "print(remove_dublicates.duplicated().sum())\n",
    "\n",
    "\n",
    "# Remove duplicate rows based on 'order_id'\n",
    "\n",
    "remove_dublicates_order_id = orders['order_id'].drop_duplicates()\n"
   ]
  },
  {
   "cell_type": "code",
   "execution_count": 5,
   "id": "f6113ef1",
   "metadata": {},
   "outputs": [
    {
     "name": "stdout",
     "output_type": "stream",
     "text": [
      "0\n"
     ]
    }
   ],
   "source": [
    "# Double check for duplicate order IDs only\n",
    "\n",
    "print(remove_dublicates_order_id.duplicated().sum())\n",
    "\n"
   ]
  },
  {
   "cell_type": "markdown",
   "id": "82285f25",
   "metadata": {},
   "source": [
    "<div class=\"alert alert-block alert-success\">✔️\n",
    "    \n",
    "\n",
    "__Reviewer's comment №1__\n",
    "\n",
    "Duplicate checking is the basis of data preprocessing"
   ]
  },
  {
   "cell_type": "markdown",
   "id": "5e8905ae",
   "metadata": {},
   "source": []
  },
  {
   "cell_type": "markdown",
   "id": "06f095be",
   "metadata": {},
   "source": []
  },
  {
   "cell_type": "markdown",
   "id": "45e6bc46",
   "metadata": {},
   "source": [
    "### `products` data frame"
   ]
  },
  {
   "cell_type": "code",
   "execution_count": 6,
   "id": "5f526b5b-8175-46fa-a0fd-441767d50e64",
   "metadata": {},
   "outputs": [
    {
     "name": "stdout",
     "output_type": "stream",
     "text": [
      "   product_id                                       product_name  aisle_id  \\\n",
      "0           1                         Chocolate Sandwich Cookies        61   \n",
      "1           2                                   All-Seasons Salt       104   \n",
      "2           3               Robust Golden Unsweetened Oolong Tea        94   \n",
      "3           4  Smart Ones Classic Favorites Mini Rigatoni Wit...        38   \n",
      "4           5                          Green Chile Anytime Sauce         5   \n",
      "\n",
      "   department_id  \n",
      "0             19  \n",
      "1             13  \n",
      "2              7  \n",
      "3              1  \n",
      "4             13  \n",
      "<class 'pandas.core.frame.DataFrame'>\n",
      "RangeIndex: 49694 entries, 0 to 49693\n",
      "Data columns (total 4 columns):\n",
      " #   Column         Non-Null Count  Dtype \n",
      "---  ------         --------------  ----- \n",
      " 0   product_id     49694 non-null  int64 \n",
      " 1   product_name   48436 non-null  object\n",
      " 2   aisle_id       49694 non-null  int64 \n",
      " 3   department_id  49694 non-null  int64 \n",
      "dtypes: int64(3), object(1)\n",
      "memory usage: 1.5+ MB\n",
      "0\n"
     ]
    }
   ],
   "source": [
    "\n",
    "print(products.head())\n",
    "products.info()\n",
    "# Check for fully duplicate rows\n",
    "duplicate_row_count = products.duplicated().sum()\n",
    "\n",
    "print(duplicate_row_count)\n",
    "\n"
   ]
  },
  {
   "cell_type": "code",
   "execution_count": 7,
   "id": "19587ac5",
   "metadata": {},
   "outputs": [],
   "source": [
    "# Check for just duplicate product IDs\n",
    "\n",
    "duplicate_product_id_count = products['product_id'].duplicated().sum()"
   ]
  },
  {
   "cell_type": "code",
   "execution_count": 8,
   "id": "c773f0bf",
   "metadata": {},
   "outputs": [
    {
     "name": "stdout",
     "output_type": "stream",
     "text": [
      "1361\n"
     ]
    }
   ],
   "source": [
    "# Check for just duplicate product names (convert names to lowercase to compare better)\n",
    "lower_case_names = products['product_name'].str.lower()\n",
    "duplicated_names_count = lower_case_names.duplicated().sum()\n",
    "\n",
    "print(duplicated_names_count)"
   ]
  },
  {
   "cell_type": "code",
   "execution_count": 9,
   "id": "01efd02e",
   "metadata": {},
   "outputs": [],
   "source": [
    "# Check for duplicate product names that aren't missing\n",
    "\n",
    "duplicated_not_missing_product = products[products.duplicated('product_name', keep=False)]\n"
   ]
  },
  {
   "cell_type": "markdown",
   "id": "9da8d293",
   "metadata": {},
   "source": []
  },
  {
   "cell_type": "markdown",
   "id": "60f30db1",
   "metadata": {},
   "source": [
    "### `departments` data frame"
   ]
  },
  {
   "cell_type": "code",
   "execution_count": 10,
   "id": "fb410ad4-0fbf-4b80-bb09-23fdea79afe3",
   "metadata": {
    "scrolled": true
   },
   "outputs": [
    {
     "name": "stdout",
     "output_type": "stream",
     "text": [
      "0\n"
     ]
    }
   ],
   "source": [
    "\n",
    "clean_duplicates = departments.drop_duplicates()\n",
    "\n",
    "clean_duplicates = departments.duplicated().sum()\n",
    "\n",
    "print(clean_duplicates)"
   ]
  },
  {
   "cell_type": "code",
   "execution_count": null,
   "id": "332b12bb",
   "metadata": {},
   "outputs": [],
   "source": []
  },
  {
   "cell_type": "markdown",
   "id": "bd30d78e",
   "metadata": {},
   "source": []
  },
  {
   "cell_type": "markdown",
   "id": "889349c1",
   "metadata": {},
   "source": [
    "### `aisles` data frame"
   ]
  },
  {
   "cell_type": "code",
   "execution_count": 11,
   "id": "9da89fb9-4679-40f5-ad0d-c34df753a3f8",
   "metadata": {
    "scrolled": true
   },
   "outputs": [
    {
     "name": "stdout",
     "output_type": "stream",
     "text": [
      "0\n"
     ]
    }
   ],
   "source": [
    "\n",
    "clean_aisles = aisle.drop_duplicates()\n",
    "clean_aisles = aisle.duplicated().sum()\n",
    "print(clean_aisles)"
   ]
  },
  {
   "cell_type": "code",
   "execution_count": null,
   "id": "da7c2822",
   "metadata": {},
   "outputs": [],
   "source": []
  },
  {
   "cell_type": "markdown",
   "id": "ac63826f",
   "metadata": {},
   "source": []
  },
  {
   "cell_type": "markdown",
   "id": "274cd06a",
   "metadata": {},
   "source": [
    "### `order_products` data frame"
   ]
  },
  {
   "cell_type": "code",
   "execution_count": 12,
   "id": "52326689-84a8-4b8f-a881-7c68780f62c9",
   "metadata": {
    "scrolled": true
   },
   "outputs": [
    {
     "name": "stdout",
     "output_type": "stream",
     "text": [
      "Fully duplicate rows:\n",
      "Empty DataFrame\n",
      "Columns: [order_id, product_id, add_to_cart_order, reordered]\n",
      "Index: []\n"
     ]
    }
   ],
   "source": [
    "# Check for fullly duplicate rows\n",
    "\n",
    "\n",
    "duplicate_rows = order_products[order_products.duplicated(keep=False)]\n",
    "\n",
    "\n",
    "print(\"Fully duplicate rows:\")\n",
    "print(duplicate_rows)\n"
   ]
  },
  {
   "cell_type": "code",
   "execution_count": 5,
   "id": "7b861391",
   "metadata": {},
   "outputs": [
    {
     "name": "stdout",
     "output_type": "stream",
     "text": [
      "Empty DataFrame\n",
      "Columns: [order_id, product_id, add_to_cart_order, reordered]\n",
      "Index: []\n"
     ]
    }
   ],
   "source": [
    "# Double check for any other tricky duplicates\n",
    "\n",
    "check = order_products[order_products.duplicated(subset=['order_id', 'product_id'])]\n",
    "\n",
    "print(check) "
   ]
  },
  {
   "cell_type": "markdown",
   "id": "0b890492",
   "metadata": {},
   "source": [
    "<div class=\"alert alert-block alert-danger\">✍\n",
    "    \n",
    "\n",
    "__Reviewer's comment №4__\n",
    "    \n",
    "We need to check for duplicate columns: 'order_id` and 'product_id'    \n",
    "\n",
    "Please see an example:\n",
    "    \n",
    "    order_products[order_products.duplicated(subset=['order_id', 'product_id'])]"
   ]
  },
  {
   "cell_type": "markdown",
   "id": "1e46de76",
   "metadata": {},
   "source": [
    "## Find and remove missing values\n"
   ]
  },
  {
   "cell_type": "markdown",
   "id": "c0aebd78",
   "metadata": {},
   "source": [
    "### `products` data frame"
   ]
  },
  {
   "cell_type": "code",
   "execution_count": 14,
   "id": "fe4a8b0f",
   "metadata": {},
   "outputs": [
    {
     "name": "stdout",
     "output_type": "stream",
     "text": [
      "product_id  product_name                                      aisle_id  department_id\n",
      "1           Chocolate Sandwich Cookies                        61        19               1\n",
      "33146       Revolt Killer Citrus                              64        7                1\n",
      "33124       Healthy Kids Organic Chocolate Nutritional Shake  92        18               1\n",
      "33125       Organic Mini Cheddar Cheese Crackers              78        19               1\n",
      "33126       Sesame Flatbread                                  112       3                1\n",
      "                                                                                        ..\n",
      "16568       Dishwasher Detergent                              74        17               1\n",
      "16569       Hummus Original                                   67        20               1\n",
      "16570       Organic Fresh Carrot Chips                        123       4                1\n",
      "16571       Unbleached Jumbo Baking Cups                      97        13               1\n",
      "49694       BURRITO- STEAK & CHEESE                           38        1                1\n",
      "Length: 49694, dtype: int64\n",
      "<class 'pandas.core.frame.DataFrame'>\n",
      "RangeIndex: 49694 entries, 0 to 49693\n",
      "Data columns (total 4 columns):\n",
      " #   Column         Non-Null Count  Dtype \n",
      "---  ------         --------------  ----- \n",
      " 0   product_id     49694 non-null  int64 \n",
      " 1   product_name   49694 non-null  object\n",
      " 2   aisle_id       49694 non-null  object\n",
      " 3   department_id  49694 non-null  object\n",
      "dtypes: int64(1), object(3)\n",
      "memory usage: 1.5+ MB\n"
     ]
    }
   ],
   "source": [
    "\n",
    "\n",
    "\n",
    "products['product_name'] = products['product_name'].astype('str')\n",
    "\n",
    "products['aisle_id'] = products['aisle_id'].astype('str')\n",
    "\n",
    "products['department_id'] = products['department_id'].astype('str')\n",
    "\n",
    "\n",
    "products_missing = products.value_counts()\n",
    "\n",
    "print(products_missing)\n",
    "\n",
    "products.info()"
   ]
  },
  {
   "cell_type": "code",
   "execution_count": 15,
   "id": "e96167bc",
   "metadata": {},
   "outputs": [
    {
     "name": "stdout",
     "output_type": "stream",
     "text": [
      "product_id       0\n",
      "product_name     0\n",
      "aisle_id         0\n",
      "department_id    0\n",
      "dtype: int64\n"
     ]
    }
   ],
   "source": [
    "# Are all of the missing product names associated with aisle ID 100?\n",
    "\n",
    "products_missing_names = products.isna().sum()\n",
    "\n",
    "print(products_missing_names)"
   ]
  },
  {
   "cell_type": "code",
   "execution_count": 16,
   "id": "8fd0a541",
   "metadata": {},
   "outputs": [
    {
     "name": "stdout",
     "output_type": "stream",
     "text": [
      "All missing product names are associated with department ID 21.\n"
     ]
    }
   ],
   "source": [
    "# Are all of the missing product names associated with department ID 21?\n",
    "\n",
    "missing_product_names = products[products['product_name'].isna()]\n",
    "\n",
    "all_missing_in_dept_21 = missing_product_names['department_id'].eq(21).all()\n",
    "\n",
    "if all_missing_in_dept_21:\n",
    "    print(\"All missing product names are associated with department ID 21.\")\n",
    "else:\n",
    "    print(\"Not all missing product names are associated with department ID 21.\")"
   ]
  },
  {
   "cell_type": "markdown",
   "id": "5063a41e",
   "metadata": {},
   "source": [
    "<div class=\"alert alert-block alert-success\">✔️\n",
    "    \n",
    "\n",
    "__Reviewer's comment №1__\n",
    "\n",
    "Great"
   ]
  },
  {
   "cell_type": "markdown",
   "id": "7d4661d8",
   "metadata": {},
   "source": []
  },
  {
   "cell_type": "code",
   "execution_count": 17,
   "id": "325c3464",
   "metadata": {},
   "outputs": [
    {
     "name": "stdout",
     "output_type": "stream",
     "text": [
      "Unique aisle IDs for missing product names: []\n",
      "Unique department IDs for missing product names: []\n"
     ]
    }
   ],
   "source": [
    "# What is this ailse and department?\n",
    "\n",
    "missing_product_names = products[products['product_name'].isna()]\n",
    "\n",
    "\n",
    "unique_aisles = missing_product_names['aisle_id'].unique()\n",
    "unique_departments = missing_product_names['department_id'].unique()\n",
    "\n",
    "print(f\"Unique aisle IDs for missing product names: {unique_aisles}\")\n",
    "print(f\"Unique department IDs for missing product names: {unique_departments}\")"
   ]
  },
  {
   "cell_type": "code",
   "execution_count": 18,
   "id": "6b295120",
   "metadata": {},
   "outputs": [
    {
     "name": "stdout",
     "output_type": "stream",
     "text": [
      "   product_id                                       product_name aisle_id  \\\n",
      "0           1                         Chocolate Sandwich Cookies       61   \n",
      "1           2                                   All-Seasons Salt      104   \n",
      "2           3               Robust Golden Unsweetened Oolong Tea       94   \n",
      "3           4  Smart Ones Classic Favorites Mini Rigatoni Wit...       38   \n",
      "4           5                          Green Chile Anytime Sauce        5   \n",
      "\n",
      "  department_id  \n",
      "0            19  \n",
      "1            13  \n",
      "2             7  \n",
      "3             1  \n",
      "4            13  \n"
     ]
    }
   ],
   "source": [
    "# Fill missing product names with 'Unknown'\n",
    "\n",
    "\n",
    "products['product_name'] = products['product_name'].fillna('Unknown')\n",
    "\n",
    "print(products.head())"
   ]
  },
  {
   "cell_type": "markdown",
   "id": "fc70e5ad",
   "metadata": {},
   "source": []
  },
  {
   "cell_type": "markdown",
   "id": "7eb45c86",
   "metadata": {},
   "source": [
    "### `orders` data frame"
   ]
  },
  {
   "cell_type": "code",
   "execution_count": 19,
   "id": "93e41d96",
   "metadata": {},
   "outputs": [
    {
     "name": "stdout",
     "output_type": "stream",
     "text": [
      "   order_id  user_id  order_number  order_dow  order_hour_of_day  \\\n",
      "0   1515936   183418            11          6                 13   \n",
      "1   1690866   163593             5          5                 12   \n",
      "2   1454967    39980             4          5                 19   \n",
      "3   1768857    82516            56          0                 20   \n",
      "4   3007858   196724             2          4                 12   \n",
      "5   1843871    20084             5          0                 11   \n",
      "6   2511640   148233            40          3                  8   \n",
      "7   2521283    97711             2          0                 18   \n",
      "8   2266494    34954            40          5                 15   \n",
      "9    446014    15356             2          4                  8   \n",
      "\n",
      "   days_since_prior_order  \n",
      "0                    30.0  \n",
      "1                     9.0  \n",
      "2                     2.0  \n",
      "3                    10.0  \n",
      "4                    17.0  \n",
      "5                    15.0  \n",
      "6                     2.0  \n",
      "7                    22.0  \n",
      "8                     4.0  \n",
      "9                    10.0  \n",
      "order_id                  0\n",
      "user_id                   0\n",
      "order_number              0\n",
      "order_dow                 0\n",
      "order_hour_of_day         0\n",
      "days_since_prior_order    0\n",
      "dtype: int64\n",
      "order_id  user_id  order_number  order_dow  order_hour_of_day  days_since_prior_order\n",
      "2232988   82565    1             3          2                  11.101751                 2\n",
      "391768    57671    19            3          2                  10.000000                 2\n",
      "1021560   53767    3             3          2                  9.000000                  2\n",
      "467134    63189    21            3          2                  2.000000                  2\n",
      "794638    50898    24            3          2                  2.000000                  2\n",
      "                                                                                        ..\n",
      "1141450   25304    1             6          17                 11.101751                 1\n",
      "1141443   6710     36            5          14                 3.000000                  1\n",
      "1141432   148777   26            3          12                 9.000000                  1\n",
      "1141423   187929   14            4          14                 8.000000                  1\n",
      "3421079   108687   6             1          13                 0.000000                  1\n",
      "Length: 478952, dtype: int64\n"
     ]
    }
   ],
   "source": [
    "\n",
    "\n",
    "\n",
    "avg_days_since = orders['days_since_prior_order'].mean()\n",
    "\n",
    "orders['days_since_prior_order'] = orders['days_since_prior_order'].fillna(avg_days_since)\n",
    "\n",
    "\n",
    "df_missing = orders.isna().sum()\n",
    "\n",
    "print(orders.head(10))\n",
    "print(df_missing.head(10))\n",
    "\n",
    "print(orders.value_counts())"
   ]
  },
  {
   "cell_type": "code",
   "execution_count": 20,
   "id": "ff2bb8e4",
   "metadata": {},
   "outputs": [
    {
     "name": "stdout",
     "output_type": "stream",
     "text": [
      "Number of missing values in 'days_since_prior_order' for non-first orders: 0\n"
     ]
    }
   ],
   "source": [
    "# Are there any missing values where it's not a customer's first order?\n",
    "\n",
    "\n",
    "not_first_order = orders[orders['order_number'] > 1]\n",
    "\n",
    "# Check for missing values in 'days_since_prior_order' for these rows\n",
    "missing_not_first_order = not_first_order['days_since_prior_order'].isna().sum()\n",
    "\n",
    "print(\"Number of missing values in 'days_since_prior_order' for non-first orders:\", missing_not_first_order)"
   ]
  },
  {
   "cell_type": "markdown",
   "id": "4e23d089",
   "metadata": {},
   "source": []
  },
  {
   "cell_type": "markdown",
   "id": "69dc9ca4",
   "metadata": {},
   "source": [
    "### `order_products` data frame"
   ]
  },
  {
   "cell_type": "code",
   "execution_count": 21,
   "id": "b8240253",
   "metadata": {},
   "outputs": [
    {
     "name": "stdout",
     "output_type": "stream",
     "text": [
      "<class 'pandas.core.frame.DataFrame'>\n",
      "RangeIndex: 4545007 entries, 0 to 4545006\n",
      "Data columns (total 4 columns):\n",
      " #   Column             Dtype  \n",
      "---  ------             -----  \n",
      " 0   order_id           object \n",
      " 1   product_id         int64  \n",
      " 2   add_to_cart_order  float64\n",
      " 3   reordered          int64  \n",
      "dtypes: float64(1), int64(2), object(1)\n",
      "memory usage: 138.7+ MB\n",
      "order_id               0\n",
      "product_id             0\n",
      "add_to_cart_order    836\n",
      "reordered              0\n",
      "dtype: int64\n"
     ]
    }
   ],
   "source": [
    "\n",
    "\n",
    "order_products['order_id'] = order_products['order_id'] .astype('str')\n",
    "\n",
    "order_products.info()\n",
    "\n",
    "\n",
    "\n",
    "\n",
    "order_products_miss = order_products.isna().sum()\n",
    "\n",
    "print(order_products_miss)"
   ]
  },
  {
   "cell_type": "code",
   "execution_count": 22,
   "id": "9a78e5ee",
   "metadata": {},
   "outputs": [
    {
     "name": "stdout",
     "output_type": "stream",
     "text": [
      "order_id             1000004\n",
      "product_id                 1\n",
      "add_to_cart_order        1.0\n",
      "reordered                  0\n",
      "dtype: object\n",
      "order_id             999998\n",
      "product_id            49694\n",
      "add_to_cart_order      64.0\n",
      "reordered                 1\n",
      "dtype: object\n"
     ]
    }
   ],
   "source": [
    "# What are the min and max values in this column?\n",
    "min_value = order_products.min()\n",
    "max_value = order_products.max()\n",
    "\n",
    "print(min_value)\n",
    "print(max_value)"
   ]
  },
  {
   "cell_type": "code",
   "execution_count": 23,
   "id": "ab9d0c2b",
   "metadata": {},
   "outputs": [
    {
     "name": "stdout",
     "output_type": "stream",
     "text": [
      "['2449164' '1968313' '2926893' '1717990' '1959075' '844733' '61355'\n",
      " '936852' '264710' '1564093' '129627' '293169' '2849370' '1386261'\n",
      " '3308010' '903110' '2136777' '3347453' '1888628' '165801' '2094761'\n",
      " '1038146' '2997021' '813364' '2256933' '171934' '2409109' '1730767'\n",
      " '1169835' '733526' '404157' '3125735' '747668' '1800005' '1961723'\n",
      " '871281' '388234' '1648217' '1477139' '102236' '1021563' '1832957'\n",
      " '2721963' '678116' '1220886' '1673227' '2999801' '1633337' '2470674'\n",
      " '2625444' '1677118' '2479011' '3383594' '1183255' '1713430' '2652650'\n",
      " '1598369' '1916118' '854647' '1302315' '888470' '180546' '2621907'\n",
      " '1308785' '2729254' '9310' '2170451' '2979697' '1625713' '1529171']\n"
     ]
    }
   ],
   "source": [
    "# Save all order IDs with at least one missing value in 'add_to_cart_order' \n",
    "\n",
    "# Filter rows where 'add_to_cart_order' is missing\n",
    "\n",
    "\n",
    "\n",
    "missing_add_to_cart = order_products[order_products['add_to_cart_order'].isna()]\n",
    "\n",
    "order_ids_with_missing = missing_add_to_cart['order_id'].unique()\n",
    "\n",
    "# Save the result to a variable \n",
    "print(order_ids_with_missing)"
   ]
  },
  {
   "attachments": {
    "image.png": {
     "image/png": "[encoded data removed]"
    }
   },
   "cell_type": "markdown",
   "id": "3482a099",
   "metadata": {},
   "source": [
    "<div class=\"alert alert-block alert-danger\">✍\n",
    "    \n",
    "\n",
    "__Reviewer's comment №1__\n",
    "    \n",
    "    \n",
    "Some blocks of code are not working. Please see what went wrong. Before submitting a project, you should check if the code works - you can do this by clicking on the Jupiter Hub Kernel and Restart & Run All panels    \n",
    "    \n",
    "\n",
    "![image.png](attachment:image.png)"
   ]
  },
  {
   "cell_type": "markdown",
   "id": "ca2a061f",
   "metadata": {},
   "source": [
    "<div class=\"alert alert-info\">\n",
    "  Corrected thre issue. Thank you \n",
    "</div>"
   ]
  },
  {
   "cell_type": "code",
   "execution_count": 24,
   "id": "54c31695",
   "metadata": {},
   "outputs": [
    {
     "name": "stdout",
     "output_type": "stream",
     "text": [
      "Do all orders with missing values have more than 64 products? True\n"
     ]
    }
   ],
   "source": [
    "# Do all orders with missing values have more than 64 products?\n",
    "\n",
    "# Step 1: Filter for rows with missing 'add_to_cart_order'\n",
    "\n",
    "missing_add_to_cart = order_products[order_products['add_to_cart_order'].isna()]\n",
    "\n",
    "# Step 2: Count the total number of products for each order with missing values\n",
    "\n",
    "product_count_per_order = order_products[order_products['order_id'].isin(missing_add_to_cart['order_id'])].groupby('order_id').size()\n",
    "\n",
    "# Step 3: Check if all counts are greater than 64\n",
    "\n",
    "all_above_64 = (product_count_per_order > 64).all()\n",
    "\n",
    "print(\"Do all orders with missing values have more than 64 products?\", all_above_64)\n",
    "\n"
   ]
  },
  {
   "cell_type": "code",
   "execution_count": 25,
   "id": "7a987d08",
   "metadata": {},
   "outputs": [
    {
     "name": "stdout",
     "output_type": "stream",
     "text": [
      "0    17\n",
      "1     1\n",
      "2     1\n",
      "3    35\n",
      "4     5\n",
      "Name: add_to_cart_order, dtype: int64\n",
      "<class 'pandas.core.frame.DataFrame'>\n",
      "RangeIndex: 4545007 entries, 0 to 4545006\n",
      "Data columns (total 4 columns):\n",
      " #   Column             Dtype \n",
      "---  ------             ----- \n",
      " 0   order_id           object\n",
      " 1   product_id         int64 \n",
      " 2   add_to_cart_order  int64 \n",
      " 3   reordered          int64 \n",
      "dtypes: int64(3), object(1)\n",
      "memory usage: 138.7+ MB\n",
      "None\n"
     ]
    }
   ],
   "source": [
    "# Replace missing values with 999 and convert column to integer type\n",
    "\n",
    "# Replace missing values in 'add_to_cart_order' with 999\n",
    "\n",
    "order_products['add_to_cart_order'] = order_products['add_to_cart_order'].fillna(999)\n",
    "\n",
    "# Convert the column to integer type\n",
    "\n",
    "order_products['add_to_cart_order'] = order_products['add_to_cart_order'].astype(int)\n",
    "\n",
    "\n",
    "\n",
    "print(order_products['add_to_cart_order'].head())\n",
    "print(order_products.info())\n"
   ]
  },
  {
   "cell_type": "markdown",
   "id": "fea4bcc7",
   "metadata": {},
   "source": []
  },
  {
   "cell_type": "markdown",
   "id": "turkish-kidney",
   "metadata": {},
   "source": [
    "# [A] Easy (must complete all to pass)"
   ]
  },
  {
   "cell_type": "markdown",
   "id": "short-capability",
   "metadata": {},
   "source": [
    "### [A1] Verify that the `'order_hour_of_day'` and `'order_dow'` values in the `orders` tables are sensible (i.e. `'order_hour_of_day'` ranges from 0 to 23 and `'order_dow'` ranges from 0 to 6)"
   ]
  },
  {
   "cell_type": "code",
   "execution_count": 26,
   "id": "growing-fruit",
   "metadata": {},
   "outputs": [
    {
     "name": "stdout",
     "output_type": "stream",
     "text": [
      "[13 12 19 20 11  8 18 15 16  9 22 10  0 14 17  1  7  6  2 21  3 23  5  4]\n"
     ]
    }
   ],
   "source": [
    "\n",
    "verify_hours = orders['order_hour_of_day'].unique()\n",
    "\n",
    "print(verify_hours)"
   ]
  },
  {
   "cell_type": "code",
   "execution_count": 27,
   "id": "accessory-malaysia",
   "metadata": {},
   "outputs": [
    {
     "name": "stdout",
     "output_type": "stream",
     "text": [
      "[6 5 0 4 3 1 2]\n"
     ]
    }
   ],
   "source": [
    "verify_day = orders['order_dow'].unique()\n",
    "\n",
    "print(verify_day)"
   ]
  },
  {
   "cell_type": "markdown",
   "id": "7bbc380f",
   "metadata": {},
   "source": []
  },
  {
   "cell_type": "markdown",
   "id": "a6743a70",
   "metadata": {},
   "source": [
    "### [A2] What time of day do people shop for groceries?"
   ]
  },
  {
   "cell_type": "code",
   "execution_count": 28,
   "id": "a36cca27",
   "metadata": {},
   "outputs": [
    {
     "name": "stdout",
     "output_type": "stream",
     "text": [
      "10\n"
     ]
    }
   ],
   "source": [
    "max_time = orders['order_hour_of_day'].value_counts().index[0]\n",
    "\n",
    "print(max_time)"
   ]
  },
  {
   "cell_type": "markdown",
   "id": "11270eed",
   "metadata": {},
   "source": [
    "<div class=\"alert alert-block alert-warning\">📝\n",
    "    \n",
    "\n",
    "__Reviewer's comment №6__\n",
    "\n",
    "\n",
    "There is a lack of visualization. Can you please add"
   ]
  },
  {
   "cell_type": "markdown",
   "id": "documented-command",
   "metadata": {},
   "source": [
    "### [A3] What day of the week do people shop for groceries?"
   ]
  },
  {
   "cell_type": "code",
   "execution_count": 29,
   "id": "chief-digit",
   "metadata": {},
   "outputs": [
    {
     "name": "stdout",
     "output_type": "stream",
     "text": [
      "0\n"
     ]
    }
   ],
   "source": [
    "max_day = orders['order_dow'].value_counts().index[0]\n",
    "\n",
    "print(max_day)"
   ]
  },
  {
   "cell_type": "markdown",
   "id": "dominant-lightning",
   "metadata": {},
   "source": [
    "<div class=\"alert alert-block alert-warning\">📝\n",
    "    \n",
    "\n",
    "__Reviewer's comment №6__\n",
    "\n",
    "\n",
    "There is a lack of visualization. Can you please add"
   ]
  },
  {
   "cell_type": "markdown",
   "id": "cutting-concert",
   "metadata": {},
   "source": [
    "### [A4] How long do people wait until placing another order?"
   ]
  },
  {
   "cell_type": "code",
   "execution_count": 30,
   "id": "c231f523",
   "metadata": {},
   "outputs": [
    {
     "name": "stdout",
     "output_type": "stream",
     "text": [
      "11.101750979677796\n"
     ]
    }
   ],
   "source": [
    "waiting_time = orders['days_since_prior_order'].mean()\n",
    "\n",
    "print(waiting_time)"
   ]
  },
  {
   "cell_type": "markdown",
   "id": "discrete-vertex",
   "metadata": {},
   "source": []
  },
  {
   "cell_type": "code",
   "execution_count": null,
   "id": "exciting-fantasy",
   "metadata": {},
   "outputs": [],
   "source": []
  },
  {
   "cell_type": "markdown",
   "id": "8d926614",
   "metadata": {},
   "source": []
  },
  {
   "cell_type": "markdown",
   "id": "tight-staff",
   "metadata": {},
   "source": [
    "# [B] Medium (must complete all to pass)"
   ]
  },
  {
   "cell_type": "markdown",
   "id": "packed-classic",
   "metadata": {},
   "source": [
    "### [B1] Is there a difference in `'order_hour_of_day'` distributions on Wednesdays and Saturdays? Plot the histograms for both days and describe the differences that you see."
   ]
  },
  {
   "cell_type": "code",
   "execution_count": 31,
   "id": "d89b8403",
   "metadata": {
    "scrolled": true
   },
   "outputs": [
    {
     "data": {
      "image/png": "[encoded data removed]",
      "text/plain": [
       "<Figure size 640x480 with 1 Axes>"
      ]
     },
     "metadata": {},
     "output_type": "display_data"
    }
   ],
   "source": [
    "\n",
    "\n",
    "# Filter for Saturday (order_dow = 0) and Wednesday (order_dow = 4)\n",
    "saturday_orders = orders[orders['order_dow'] == 0]['order_hour_of_day']\n",
    "wednesday_orders = orders[orders['order_dow'] == 4]['order_hour_of_day']\n",
    "\n",
    "# Plot histograms for both days\n",
    "\n",
    "\n",
    "\n",
    "# Saturday plot'\n",
    "plt.hist(saturday_orders,  bins=24, alpha=0.5, color='blue', label='Saturday')\n",
    "\n",
    "# Wednesday plot\n",
    "plt.hist(wednesday_orders, bins=24, alpha=0.5, color='orange', label='Wednesday' )\n",
    "\n",
    "plt.xlabel('Hour of Day')\n",
    "plt.ylabel('Frequency')\n",
    "plt.title('Order Hour Distribution on Saturday vs. Wednesday')\n",
    "\n",
    "plt.show()\n",
    "\n",
    "\n",
    "plt.show()\n"
   ]
  },
  {
   "cell_type": "markdown",
   "id": "dd5b56d5",
   "metadata": {},
   "source": [
    "Similar Peak Hours: Both Saturday and Wednesday show a peak in order activity around mid-day to early afternoon (around 10 AM to 3 PM). This indicates that customers tend to place orders during similar hours on both days.\n",
    "\n",
    "Higher Activity on Saturday: The Saturday distribution (in blue) generally has higher frequencies across most hours, especially during peak hours. This suggests that Saturdays see more orders compared to Wednesdays, possibly because it's a weekend day when more people are available to shop.\n",
    "\n",
    "Early Morning and Late Night: There are very few orders placed in the early morning hours (0-5 AM) and late evening hours (after 8 PM) on both days, indicating that most customers do not shop during these times.\n",
    "\n",
    "In summary, while the pattern of order placement across the day is similar on both days, the volume is higher on Saturdays, particularly during mid-day hours. This information could help in planning staffing and inventory to meet demand spikes on weekends."
   ]
  },
  {
   "attachments": {
    "image.png": {
     "image/png": "[encoded data removed]"
    }
   },
   "cell_type": "markdown",
   "id": "e281513d",
   "metadata": {},
   "source": [
    "<div class=\"alert alert-block alert-danger\">✍\n",
    "    \n",
    "\n",
    "__Reviewer's comment №6__\n",
    "\n",
    "It is better after each section, graph (or series of tests) to write a conclusion on the obtained data taking into account the set business task - so it is easier to read the project, because future colleagues or customers will not have to interpret the results of each section, test or graph themselves.\n",
    "    \n",
    "---\n",
    "    \n",
    "In markdown ![image.png](attachment:image.png)"
   ]
  },
  {
   "cell_type": "markdown",
   "id": "3b72d1ab",
   "metadata": {},
   "source": []
  },
  {
   "cell_type": "code",
   "execution_count": null,
   "id": "797c90a8",
   "metadata": {},
   "outputs": [],
   "source": []
  },
  {
   "cell_type": "code",
   "execution_count": null,
   "id": "35bcea30",
   "metadata": {},
   "outputs": [],
   "source": []
  },
  {
   "cell_type": "markdown",
   "id": "charitable-congo",
   "metadata": {},
   "source": []
  },
  {
   "cell_type": "markdown",
   "id": "e3891143",
   "metadata": {},
   "source": [
    "### [B2] What's the distribution for the number of orders per customer?"
   ]
  },
  {
   "cell_type": "code",
   "execution_count": 32,
   "id": "d8c26c23",
   "metadata": {},
   "outputs": [
    {
     "data": {
      "image/png": "[encoded data removed]",
      "text/plain": [
       "<Figure size 1000x500 with 1 Axes>"
      ]
     },
     "metadata": {},
     "output_type": "display_data"
    }
   ],
   "source": [
    "\n",
    "\n",
    "# Calculate the number of orders per customer\n",
    "orders_per_customer = orders['user_id'].value_counts()\n",
    "\n",
    "# Plot the distribution\n",
    "plt.figure(figsize=(10, 5))\n",
    "plt.hist(orders_per_customer, bins=30, color='skyblue', edgecolor='black')\n",
    "plt.xlabel('Number of Orders per Customer')\n",
    "plt.ylabel('Frequency')\n",
    "plt.title('Distribution of Number of Orders per Customer')\n",
    "plt.show()"
   ]
  },
  {
   "cell_type": "markdown",
   "id": "61bb4f84",
   "metadata": {},
   "source": [
    "Conclusion:\n",
    "Most customers place only a few orders, with the number of customers significantly dropping as the order count increases. This skewed distribution suggests that while most customers make infrequent purchases, a small subset is highly engaged, making numerous repeat orders. This insight could be useful for customer retention strategies, such as targeting frequent customers with loyalty programs."
   ]
  },
  {
   "cell_type": "markdown",
   "id": "d2eff7d5",
   "metadata": {},
   "source": []
  },
  {
   "cell_type": "markdown",
   "id": "54a0319c",
   "metadata": {},
   "source": [
    "### [B3] What are the top 20 popular products (display their id and name)?"
   ]
  },
  {
   "cell_type": "code",
   "execution_count": null,
   "id": "exterior-arizona",
   "metadata": {
    "scrolled": true
   },
   "outputs": [],
   "source": []
  },
  {
   "cell_type": "markdown",
   "id": "bd2a4453",
   "metadata": {},
   "source": [
    "I couldnt could you please help me to solve it. Thank you "
   ]
  },
  {
   "cell_type": "code",
   "execution_count": null,
   "id": "bbcdd20b",
   "metadata": {},
   "outputs": [],
   "source": []
  },
  {
   "cell_type": "markdown",
   "id": "7df00f47",
   "metadata": {},
   "source": []
  },
  {
   "cell_type": "markdown",
   "id": "gross-theme",
   "metadata": {},
   "source": [
    "# [C] Hard (must complete at least two to pass)"
   ]
  },
  {
   "cell_type": "markdown",
   "id": "romantic-deposit",
   "metadata": {},
   "source": [
    "### [C1] How many items do people typically buy in one order? What does the distribution look like?"
   ]
  },
  {
   "cell_type": "code",
   "execution_count": 33,
   "id": "virtual-punch",
   "metadata": {},
   "outputs": [
    {
     "name": "stdout",
     "output_type": "stream",
     "text": [
      "Summary statistics for items per order:\n",
      "count    450046.000000\n",
      "mean         10.098983\n",
      "std           7.540206\n",
      "min           1.000000\n",
      "25%           5.000000\n",
      "50%           8.000000\n",
      "75%          14.000000\n",
      "max         127.000000\n",
      "dtype: float64\n"
     ]
    },
    {
     "data": {
      "image/png": "[encoded data removed]",
      "text/plain": [
       "<Figure size 1000x600 with 1 Axes>"
      ]
     },
     "metadata": {},
     "output_type": "display_data"
    }
   ],
   "source": [
    "\n",
    "\n",
    "# Number of items per order\n",
    "items_per_order = order_products.groupby('order_id').size()\n",
    "\n",
    "# Summary statistics\n",
    "print(\"Summary statistics for items per order:\")\n",
    "print(items_per_order.describe())\n",
    "\n",
    "plt.figure(figsize=(10, 6))\n",
    "plt.hist(items_per_order, bins=30, edgecolor='k', alpha=0.7)\n",
    "plt.xlabel('Number of Items per Order')\n",
    "plt.ylabel('Frequency')\n",
    "plt.title('Distribution of Number of Items per Order')\n",
    "plt.show()"
   ]
  },
  {
   "cell_type": "markdown",
   "id": "bf54abce",
   "metadata": {},
   "source": [
    "Conclusion:\n",
    "The data indicates that most orders consist of a small number of items, but there is a significant range in order sizes, with occasional large orders. This trend suggests that while many customers may place smaller, more frequent orders, there is also a segment that places larger orders, possibly for bulk buying or group purchases. This insight can be useful for inventory management and logistics, especially in preparing for occasional high-volume orders."
   ]
  },
  {
   "cell_type": "code",
   "execution_count": null,
   "id": "completed-frank",
   "metadata": {},
   "outputs": [],
   "source": []
  },
  {
   "cell_type": "markdown",
   "id": "designed-mortality",
   "metadata": {},
   "source": []
  },
  {
   "cell_type": "markdown",
   "id": "5e6b5537",
   "metadata": {},
   "source": [
    "### [C2] What are the top 20 items that are reordered most frequently (display their names and product IDs)?"
   ]
  },
  {
   "cell_type": "code",
   "execution_count": 34,
   "id": "9374e55a",
   "metadata": {},
   "outputs": [
    {
     "name": "stdout",
     "output_type": "stream",
     "text": [
      "    product_id              product_name  reorder_count\n",
      "0        24852                    Banana          55763\n",
      "1        13176    Bag of Organic Bananas          44450\n",
      "2        21137      Organic Strawberries          28639\n",
      "3        21903      Organic Baby Spinach          26233\n",
      "4        47209      Organic Hass Avocado          23629\n",
      "5        47766           Organic Avocado          18743\n",
      "6        27845        Organic Whole Milk          16251\n",
      "7        47626               Large Lemon          15044\n",
      "8        27966       Organic Raspberries          14748\n",
      "9        16797              Strawberries          13945\n",
      "10       26209                     Limes          13327\n",
      "11       22935      Organic Yellow Onion          11145\n",
      "12       24964            Organic Garlic          10411\n",
      "13       45007          Organic Zucchini          10076\n",
      "14       49683            Cucumber Kirby           9538\n",
      "15       28204        Organic Fuji Apple           8989\n",
      "16        8277  Apple Honeycrisp Organic           8836\n",
      "17       39275       Organic Blueberries           8799\n",
      "18        5876             Organic Lemon           8412\n",
      "19       49235       Organic Half & Half           8389\n"
     ]
    }
   ],
   "source": [
    "import pandas as pd\n",
    "\n",
    "\n",
    "\n",
    "\n",
    "reordered_items = order_products[order_products['reordered'] == 1]\n",
    "\n",
    "\n",
    "reorder_counts = reordered_items['product_id'].value_counts().head(20)\n",
    "\n",
    "\n",
    "top_reordered_product_ids = reorder_counts.index\n",
    "\n",
    "\n",
    "top_reordered_products = pd.DataFrame({'product_id': top_reordered_product_ids, 'reorder_count': reorder_counts.values})\n",
    "top_reordered_products = top_reordered_products.merge(products, on='product_id', how='left')\n",
    "\n",
    "\n",
    "print(top_reordered_products[['product_id', 'product_name', 'reorder_count']])\n",
    "\n"
   ]
  },
  {
   "cell_type": "code",
   "execution_count": null,
   "id": "possible-change",
   "metadata": {
    "scrolled": true
   },
   "outputs": [],
   "source": []
  },
  {
   "cell_type": "code",
   "execution_count": null,
   "id": "professional-surfing",
   "metadata": {
    "scrolled": true
   },
   "outputs": [],
   "source": []
  },
  {
   "cell_type": "code",
   "execution_count": null,
   "id": "48dd3658",
   "metadata": {},
   "outputs": [],
   "source": []
  },
  {
   "cell_type": "markdown",
   "id": "80e70c74",
   "metadata": {},
   "source": []
  },
  {
   "cell_type": "markdown",
   "id": "9d312b14",
   "metadata": {},
   "source": [
    "### [C3] For each product, what proportion of its orders are reorders?"
   ]
  },
  {
   "cell_type": "code",
   "execution_count": null,
   "id": "8ae9f4b1",
   "metadata": {},
   "outputs": [],
   "source": []
  },
  {
   "cell_type": "code",
   "execution_count": null,
   "id": "103e7fe1",
   "metadata": {},
   "outputs": [],
   "source": []
  },
  {
   "cell_type": "code",
   "execution_count": null,
   "id": "social-individual",
   "metadata": {},
   "outputs": [],
   "source": []
  },
  {
   "cell_type": "markdown",
   "id": "subject-boxing",
   "metadata": {},
   "source": [
    "### [C4] For each customer, what proportion of their products ordered are reorders?"
   ]
  },
  {
   "cell_type": "code",
   "execution_count": null,
   "id": "medical-couple",
   "metadata": {
    "scrolled": true
   },
   "outputs": [],
   "source": []
  },
  {
   "cell_type": "code",
   "execution_count": null,
   "id": "8892e4b4",
   "metadata": {},
   "outputs": [],
   "source": []
  },
  {
   "cell_type": "markdown",
   "id": "92d35137",
   "metadata": {},
   "source": [
    "### [C5] What are the top 20 items that people put in their carts first? "
   ]
  },
  {
   "cell_type": "code",
   "execution_count": null,
   "id": "0ae57274",
   "metadata": {
    "scrolled": true
   },
   "outputs": [],
   "source": []
  },
  {
   "cell_type": "code",
   "execution_count": null,
   "id": "forty-netherlands",
   "metadata": {
    "scrolled": true
   },
   "outputs": [],
   "source": []
  },
  {
   "cell_type": "code",
   "execution_count": null,
   "id": "08e41ec2",
   "metadata": {},
   "outputs": [],
   "source": []
  },
  {
   "cell_type": "markdown",
   "id": "28ce9872",
   "metadata": {},
   "source": []
  },
  {
   "cell_type": "markdown",
   "id": "1b135bf4",
   "metadata": {},
   "source": [
    "<div class=\"alert alert-block alert-danger\">✍\n",
    "    \n",
    "\n",
    "__Reviewer's comment №6__\n",
    "\n",
    "\n",
    "It would be nice to add an overall output for the projec\n",
    "</div>"
   ]
  },
  {
   "cell_type": "markdown",
   "id": "5706d9f7",
   "metadata": {},
   "source": []
  },
  {
   "cell_type": "markdown",
   "id": "7cb33acf",
   "metadata": {},
   "source": []
  },
  {
   "cell_type": "markdown",
   "id": "547afd69",
   "metadata": {},
   "source": [
    "<div class=\"alert alert-block alert-success\">✔️\n",
    "    \n",
    "\n",
    "__Reviewer's comment №6__\n",
    "\n",
    "\n",
    "Otherwise it's great😊. Your project is begging for github =)   \n",
    "    \n",
    "Congratulations on the successful completion of the project 😊👍\n",
    "And I wish you success in new works 😊"
   ]
  }
 ],
 "metadata": {
  "ExecuteTimeLog": [
   {
    "duration": 8,
    "start_time": "2024-11-08T17:15:59.982Z"
   },
   {
    "duration": 4,
    "start_time": "2024-11-08T17:16:35.360Z"
   },
   {
    "duration": 3,
    "start_time": "2024-11-08T17:16:36.780Z"
   },
   {
    "duration": 2,
    "start_time": "2024-11-08T17:16:38.381Z"
   },
   {
    "duration": 3,
    "start_time": "2024-11-08T17:17:01.888Z"
   },
   {
    "duration": 4,
    "start_time": "2024-11-08T17:18:07.273Z"
   },
   {
    "duration": 3,
    "start_time": "2024-11-08T17:18:08.495Z"
   },
   {
    "duration": 2,
    "start_time": "2024-11-08T17:18:09.651Z"
   },
   {
    "duration": 3,
    "start_time": "2024-11-08T17:18:11.888Z"
   },
   {
    "duration": 830,
    "start_time": "2024-11-08T17:19:44.325Z"
   },
   {
    "duration": 2,
    "start_time": "2024-11-08T17:19:45.172Z"
   },
   {
    "duration": 67,
    "start_time": "2024-11-08T17:20:01.394Z"
   },
   {
    "duration": 2,
    "start_time": "2024-11-08T17:20:02.813Z"
   },
   {
    "duration": 2,
    "start_time": "2024-11-08T17:20:03.929Z"
   },
   {
    "duration": 4,
    "start_time": "2024-11-08T17:20:54.490Z"
   },
   {
    "duration": 58,
    "start_time": "2024-11-08T17:21:21.120Z"
   },
   {
    "duration": 57,
    "start_time": "2024-11-08T17:22:04.605Z"
   },
   {
    "duration": 421,
    "start_time": "2024-11-08T17:23:09.202Z"
   },
   {
    "duration": 248,
    "start_time": "2024-11-08T17:23:30.392Z"
   },
   {
    "duration": 409,
    "start_time": "2024-11-08T17:25:26.461Z"
   },
   {
    "duration": 386,
    "start_time": "2024-11-08T17:25:46.555Z"
   },
   {
    "duration": 382,
    "start_time": "2024-11-08T17:25:53.654Z"
   },
   {
    "duration": 1012,
    "start_time": "2024-11-08T17:27:02.746Z"
   },
   {
    "duration": 256,
    "start_time": "2024-11-08T17:28:41.499Z"
   },
   {
    "duration": 390,
    "start_time": "2024-11-08T17:29:09.126Z"
   },
   {
    "duration": 393,
    "start_time": "2024-11-08T17:29:45.091Z"
   },
   {
    "duration": 389,
    "start_time": "2024-11-08T17:29:56.469Z"
   },
   {
    "duration": 385,
    "start_time": "2024-11-08T17:30:11.271Z"
   },
   {
    "duration": 407,
    "start_time": "2024-11-08T17:30:53.549Z"
   },
   {
    "duration": 413,
    "start_time": "2024-11-08T17:31:04.126Z"
   },
   {
    "duration": 239,
    "start_time": "2024-11-08T17:32:02.081Z"
   },
   {
    "duration": 240,
    "start_time": "2024-11-08T17:38:21.516Z"
   },
   {
    "duration": 271,
    "start_time": "2024-11-08T17:38:44.025Z"
   },
   {
    "duration": 246,
    "start_time": "2024-11-08T17:38:52.105Z"
   },
   {
    "duration": 252,
    "start_time": "2024-11-08T17:38:59.904Z"
   },
   {
    "duration": 253,
    "start_time": "2024-11-08T17:39:18.928Z"
   },
   {
    "duration": 255,
    "start_time": "2024-11-08T17:39:56.410Z"
   },
   {
    "duration": 278,
    "start_time": "2024-11-08T17:42:26.996Z"
   },
   {
    "duration": 262,
    "start_time": "2024-11-08T17:42:54.001Z"
   },
   {
    "duration": 268,
    "start_time": "2024-11-08T17:43:41.411Z"
   },
   {
    "duration": 260,
    "start_time": "2024-11-08T17:57:09.165Z"
   },
   {
    "duration": 256,
    "start_time": "2024-11-08T17:57:55.394Z"
   },
   {
    "duration": 255,
    "start_time": "2024-11-08T17:58:03.292Z"
   },
   {
    "duration": 266,
    "start_time": "2024-11-08T17:58:19.090Z"
   },
   {
    "duration": 268,
    "start_time": "2024-11-08T17:58:31.285Z"
   },
   {
    "duration": 2,
    "start_time": "2024-11-08T17:59:22.169Z"
   },
   {
    "duration": 243,
    "start_time": "2024-11-08T18:04:06.032Z"
   },
   {
    "duration": 294,
    "start_time": "2024-11-08T18:05:16.284Z"
   },
   {
    "duration": 286,
    "start_time": "2024-11-08T18:06:05.199Z"
   },
   {
    "duration": 265,
    "start_time": "2024-11-08T18:06:12.986Z"
   },
   {
    "duration": 269,
    "start_time": "2024-11-08T18:08:04.529Z"
   },
   {
    "duration": 277,
    "start_time": "2024-11-08T18:08:18.437Z"
   },
   {
    "duration": 385,
    "start_time": "2024-11-08T18:09:31.007Z"
   },
   {
    "duration": 3,
    "start_time": "2024-11-08T18:14:28.207Z"
   },
   {
    "duration": 5,
    "start_time": "2024-11-08T18:14:42.119Z"
   },
   {
    "duration": 38,
    "start_time": "2024-11-08T18:14:47.901Z"
   },
   {
    "duration": 38,
    "start_time": "2024-11-08T18:15:46.716Z"
   },
   {
    "duration": 2,
    "start_time": "2024-11-08T18:15:48.402Z"
   },
   {
    "duration": 2,
    "start_time": "2024-11-08T18:16:40.233Z"
   },
   {
    "duration": 39,
    "start_time": "2024-11-08T18:20:19.193Z"
   },
   {
    "duration": 5,
    "start_time": "2024-11-08T18:22:40.426Z"
   },
   {
    "duration": 37,
    "start_time": "2024-11-08T18:22:48.530Z"
   },
   {
    "duration": 37,
    "start_time": "2024-11-08T18:22:54.452Z"
   },
   {
    "duration": 3,
    "start_time": "2024-11-08T18:23:13.835Z"
   },
   {
    "duration": 37,
    "start_time": "2024-11-08T18:23:19.878Z"
   },
   {
    "duration": 257,
    "start_time": "2024-11-08T18:24:08.431Z"
   },
   {
    "duration": 264,
    "start_time": "2024-11-08T18:24:31.917Z"
   },
   {
    "duration": 37,
    "start_time": "2024-11-08T18:25:02.655Z"
   },
   {
    "duration": 3,
    "start_time": "2024-11-08T18:26:12.391Z"
   },
   {
    "duration": 46,
    "start_time": "2024-11-08T18:26:37.146Z"
   },
   {
    "duration": 38,
    "start_time": "2024-11-08T18:26:59.623Z"
   },
   {
    "duration": 37,
    "start_time": "2024-11-08T18:27:17.019Z"
   },
   {
    "duration": 2,
    "start_time": "2024-11-08T18:27:18.185Z"
   },
   {
    "duration": 37,
    "start_time": "2024-11-08T18:27:26.447Z"
   },
   {
    "duration": 157,
    "start_time": "2024-11-08T18:29:13.592Z"
   },
   {
    "duration": 546,
    "start_time": "2024-11-08T18:29:41.861Z"
   },
   {
    "duration": 373,
    "start_time": "2024-11-08T18:31:08.080Z"
   },
   {
    "duration": 11,
    "start_time": "2024-11-08T18:31:28.329Z"
   },
   {
    "duration": 157,
    "start_time": "2024-11-08T18:32:22.341Z"
   },
   {
    "duration": 12,
    "start_time": "2024-11-08T18:32:37.433Z"
   },
   {
    "duration": 2,
    "start_time": "2024-11-08T18:32:38.521Z"
   },
   {
    "duration": 12,
    "start_time": "2024-11-08T18:34:18.221Z"
   },
   {
    "duration": 2,
    "start_time": "2024-11-08T18:34:19.381Z"
   },
   {
    "duration": 730,
    "start_time": "2024-11-08T18:34:40.127Z"
   },
   {
    "duration": 417,
    "start_time": "2024-11-08T18:34:43.692Z"
   },
   {
    "duration": 393,
    "start_time": "2024-11-08T18:34:46.210Z"
   },
   {
    "duration": 398,
    "start_time": "2024-11-08T18:34:51.072Z"
   },
   {
    "duration": 35,
    "start_time": "2024-11-08T18:36:05.017Z"
   },
   {
    "duration": 180,
    "start_time": "2024-11-08T18:36:09.747Z"
   },
   {
    "duration": 164,
    "start_time": "2024-11-08T18:36:32.890Z"
   },
   {
    "duration": 628,
    "start_time": "2024-11-08T18:36:58.804Z"
   },
   {
    "duration": 38,
    "start_time": "2024-11-08T18:38:53.628Z"
   },
   {
    "duration": 36,
    "start_time": "2024-11-08T18:39:08.629Z"
   },
   {
    "duration": 36,
    "start_time": "2024-11-08T18:39:33.292Z"
   },
   {
    "duration": 36,
    "start_time": "2024-11-08T18:39:55.205Z"
   },
   {
    "duration": 263,
    "start_time": "2024-11-08T18:40:03.861Z"
   },
   {
    "duration": 37,
    "start_time": "2024-11-08T18:41:39.053Z"
   },
   {
    "duration": 35,
    "start_time": "2024-11-08T18:42:11.329Z"
   },
   {
    "duration": 433,
    "start_time": "2024-11-08T18:42:32.428Z"
   },
   {
    "duration": 394,
    "start_time": "2024-11-08T18:42:44.050Z"
   },
   {
    "duration": 66,
    "start_time": "2024-11-08T18:44:02.556Z"
   },
   {
    "duration": 12,
    "start_time": "2024-11-08T18:44:53.461Z"
   },
   {
    "duration": 24,
    "start_time": "2024-11-08T18:45:59.847Z"
   },
   {
    "duration": 12,
    "start_time": "2024-11-08T18:47:18.904Z"
   },
   {
    "duration": 2,
    "start_time": "2024-11-08T18:47:20.718Z"
   },
   {
    "duration": 41,
    "start_time": "2024-11-08T18:48:54.181Z"
   },
   {
    "duration": 39,
    "start_time": "2024-11-08T18:49:00.074Z"
   },
   {
    "duration": 36,
    "start_time": "2024-11-08T18:49:35.024Z"
   },
   {
    "duration": 38,
    "start_time": "2024-11-08T18:50:46.940Z"
   },
   {
    "duration": 99,
    "start_time": "2024-11-08T18:50:51.768Z"
   },
   {
    "duration": 37,
    "start_time": "2024-11-08T18:52:50.454Z"
   },
   {
    "duration": 13,
    "start_time": "2024-11-08T18:53:38.839Z"
   },
   {
    "duration": 16,
    "start_time": "2024-11-08T18:54:30.942Z"
   },
   {
    "duration": 12,
    "start_time": "2024-11-08T18:54:56.662Z"
   },
   {
    "duration": 155,
    "start_time": "2024-11-08T19:14:20.155Z"
   },
   {
    "duration": 12,
    "start_time": "2024-11-08T19:14:35.901Z"
   },
   {
    "duration": 733,
    "start_time": "2024-11-08T19:20:10.243Z"
   },
   {
    "duration": 215,
    "start_time": "2024-11-08T19:21:34.992Z"
   },
   {
    "duration": 194,
    "start_time": "2024-11-08T19:24:20.642Z"
   },
   {
    "duration": 94,
    "start_time": "2024-11-08T19:27:09.795Z"
   },
   {
    "duration": 37,
    "start_time": "2024-11-08T19:27:52.539Z"
   },
   {
    "duration": 39,
    "start_time": "2024-11-08T19:28:45.778Z"
   },
   {
    "duration": 39,
    "start_time": "2024-11-08T19:29:20.750Z"
   },
   {
    "duration": 159,
    "start_time": "2024-11-10T04:45:51.101Z"
   },
   {
    "duration": 12,
    "start_time": "2024-11-10T04:45:54.915Z"
   },
   {
    "duration": 468,
    "start_time": "2024-11-10T04:47:23.518Z"
   },
   {
    "duration": 645,
    "start_time": "2024-11-10T04:53:23.514Z"
   },
   {
    "duration": 283,
    "start_time": "2024-11-10T04:57:22.032Z"
   },
   {
    "duration": 276,
    "start_time": "2024-11-10T05:02:17.313Z"
   },
   {
    "duration": 288,
    "start_time": "2024-11-10T05:02:21.943Z"
   },
   {
    "duration": 365,
    "start_time": "2024-11-10T05:02:57.352Z"
   },
   {
    "duration": 410,
    "start_time": "2024-11-10T05:03:14.475Z"
   },
   {
    "duration": 37,
    "start_time": "2024-11-10T05:04:14.070Z"
   },
   {
    "duration": 419,
    "start_time": "2024-11-10T05:05:06.630Z"
   },
   {
    "duration": 48,
    "start_time": "2024-11-10T05:05:17.514Z"
   },
   {
    "duration": 37,
    "start_time": "2024-11-10T05:05:45.145Z"
   },
   {
    "duration": 37,
    "start_time": "2024-11-10T05:06:29.859Z"
   },
   {
    "duration": 57,
    "start_time": "2024-11-10T05:07:46.294Z"
   },
   {
    "duration": 38,
    "start_time": "2024-11-10T05:07:50.630Z"
   },
   {
    "duration": 36,
    "start_time": "2024-11-10T05:07:58.001Z"
   },
   {
    "duration": 37,
    "start_time": "2024-11-10T05:07:59.927Z"
   },
   {
    "duration": 36,
    "start_time": "2024-11-10T05:08:43.914Z"
   },
   {
    "duration": 39,
    "start_time": "2024-11-10T05:09:09.636Z"
   },
   {
    "duration": 18,
    "start_time": "2024-11-10T05:13:00.671Z"
   },
   {
    "duration": 6,
    "start_time": "2024-11-10T05:13:52.156Z"
   },
   {
    "duration": 7,
    "start_time": "2024-11-10T05:13:56.082Z"
   },
   {
    "duration": 9,
    "start_time": "2024-11-10T05:18:43.616Z"
   },
   {
    "duration": 7,
    "start_time": "2024-11-10T05:18:48.364Z"
   },
   {
    "duration": 4334,
    "start_time": "2024-11-10T05:24:19.918Z"
   },
   {
    "duration": 7,
    "start_time": "2024-11-10T05:24:31.418Z"
   },
   {
    "duration": 6,
    "start_time": "2024-11-10T05:24:35.581Z"
   },
   {
    "duration": 7,
    "start_time": "2024-11-10T05:25:02.368Z"
   },
   {
    "duration": 7,
    "start_time": "2024-11-10T05:25:30.411Z"
   },
   {
    "duration": 9,
    "start_time": "2024-11-10T05:26:03.294Z"
   },
   {
    "duration": 15,
    "start_time": "2024-11-10T05:26:44.437Z"
   },
   {
    "duration": 4831,
    "start_time": "2024-11-10T05:28:59.772Z"
   },
   {
    "duration": 4715,
    "start_time": "2024-11-10T05:29:10.512Z"
   },
   {
    "duration": 2310,
    "start_time": "2024-11-10T05:31:44.736Z"
   },
   {
    "duration": 275,
    "start_time": "2024-11-10T05:34:51.420Z"
   },
   {
    "duration": 294,
    "start_time": "2024-11-10T05:35:13.146Z"
   },
   {
    "duration": 331,
    "start_time": "2024-11-10T05:35:24.956Z"
   },
   {
    "duration": 328,
    "start_time": "2024-11-10T05:36:27.161Z"
   },
   {
    "duration": 278,
    "start_time": "2024-11-10T05:37:25.775Z"
   },
   {
    "duration": 630,
    "start_time": "2024-11-10T05:38:22.674Z"
   },
   {
    "duration": 42,
    "start_time": "2024-11-10T05:39:05.533Z"
   },
   {
    "duration": 5,
    "start_time": "2024-11-10T05:41:13.651Z"
   },
   {
    "duration": 36,
    "start_time": "2024-11-10T05:41:25.768Z"
   },
   {
    "duration": 45,
    "start_time": "2024-11-10T05:44:04.817Z"
   },
   {
    "duration": 4729,
    "start_time": "2024-11-10T05:45:25.466Z"
   },
   {
    "duration": 2474,
    "start_time": "2024-11-10T05:46:09.908Z"
   },
   {
    "duration": 14,
    "start_time": "2024-11-10T05:46:46.491Z"
   },
   {
    "duration": 8,
    "start_time": "2024-11-10T05:47:18.554Z"
   },
   {
    "duration": 6,
    "start_time": "2024-11-10T05:51:45.517Z"
   },
   {
    "duration": 3,
    "start_time": "2024-11-10T05:52:34.602Z"
   },
   {
    "duration": 116,
    "start_time": "2024-11-10T05:54:42.434Z"
   },
   {
    "duration": 121,
    "start_time": "2024-11-10T05:55:21.431Z"
   },
   {
    "duration": 27896,
    "start_time": "2024-11-10T05:56:24.193Z"
   },
   {
    "duration": 49,
    "start_time": "2024-11-10T06:00:39.199Z"
   },
   {
    "duration": 382,
    "start_time": "2024-11-10T06:01:09.071Z"
   },
   {
    "duration": 385,
    "start_time": "2024-11-10T06:01:33.921Z"
   },
   {
    "duration": 388,
    "start_time": "2024-11-10T06:02:06.633Z"
   },
   {
    "duration": 39,
    "start_time": "2024-11-10T06:02:44.425Z"
   },
   {
    "duration": 258,
    "start_time": "2024-11-10T06:03:19.597Z"
   },
   {
    "duration": 250,
    "start_time": "2024-11-10T06:03:51.303Z"
   },
   {
    "duration": 14,
    "start_time": "2024-11-10T06:04:11.737Z"
   },
   {
    "duration": 2,
    "start_time": "2024-11-10T06:04:26.002Z"
   },
   {
    "duration": 48,
    "start_time": "2024-11-10T06:04:53.367Z"
   },
   {
    "duration": 3,
    "start_time": "2024-11-10T06:05:17.152Z"
   },
   {
    "duration": 12,
    "start_time": "2024-11-10T06:05:19.959Z"
   },
   {
    "duration": 41,
    "start_time": "2024-11-10T06:05:37.042Z"
   },
   {
    "duration": 769,
    "start_time": "2024-11-10T06:06:11.687Z"
   },
   {
    "duration": 2,
    "start_time": "2024-11-10T06:06:19.766Z"
   },
   {
    "duration": 307,
    "start_time": "2024-11-10T06:08:22.383Z"
   },
   {
    "duration": 303,
    "start_time": "2024-11-10T06:21:22.491Z"
   },
   {
    "duration": 372,
    "start_time": "2024-11-10T06:23:52.514Z"
   },
   {
    "duration": 288,
    "start_time": "2024-11-10T06:23:57.178Z"
   },
   {
    "duration": 276,
    "start_time": "2024-11-10T06:24:09.411Z"
   },
   {
    "duration": 21,
    "start_time": "2024-11-10T06:24:49.080Z"
   },
   {
    "duration": 364,
    "start_time": "2024-11-10T06:25:08.190Z"
   },
   {
    "duration": 13,
    "start_time": "2024-11-10T06:26:04.696Z"
   },
   {
    "duration": 441,
    "start_time": "2024-11-10T06:26:16.178Z"
   },
   {
    "duration": 306,
    "start_time": "2024-11-10T06:26:33.347Z"
   },
   {
    "duration": 494,
    "start_time": "2024-11-10T06:32:11.449Z"
   },
   {
    "duration": 338,
    "start_time": "2024-11-10T06:32:21.011Z"
   },
   {
    "duration": 444,
    "start_time": "2024-11-10T06:32:42.729Z"
   },
   {
    "duration": 342,
    "start_time": "2024-11-10T06:32:54.167Z"
   },
   {
    "duration": 445,
    "start_time": "2024-11-10T06:34:07.345Z"
   },
   {
    "duration": 453,
    "start_time": "2024-11-10T06:36:41.989Z"
   },
   {
    "duration": 485,
    "start_time": "2024-11-10T06:37:12.038Z"
   },
   {
    "duration": 188,
    "start_time": "2024-11-10T06:38:07.765Z"
   },
   {
    "duration": 268,
    "start_time": "2024-11-10T06:38:18.401Z"
   },
   {
    "duration": 311,
    "start_time": "2024-11-10T06:38:43.360Z"
   },
   {
    "duration": 173,
    "start_time": "2024-11-10T06:46:44.542Z"
   },
   {
    "duration": 164,
    "start_time": "2024-11-10T06:48:03.775Z"
   },
   {
    "duration": 58,
    "start_time": "2024-11-10T06:52:12.124Z"
   },
   {
    "duration": 12,
    "start_time": "2024-11-10T06:52:46.372Z"
   },
   {
    "duration": 78,
    "start_time": "2024-11-10T06:53:25.398Z"
   },
   {
    "duration": 14,
    "start_time": "2024-11-10T06:55:16.333Z"
   },
   {
    "duration": 48,
    "start_time": "2024-11-10T06:56:52.371Z"
   },
   {
    "duration": 33,
    "start_time": "2024-11-10T06:57:02.101Z"
   },
   {
    "duration": 23,
    "start_time": "2024-11-10T06:58:14.394Z"
   },
   {
    "duration": 45,
    "start_time": "2024-11-10T06:58:37.299Z"
   },
   {
    "duration": 41,
    "start_time": "2024-11-10T07:02:06.680Z"
   },
   {
    "duration": 42,
    "start_time": "2024-11-10T07:02:42.938Z"
   },
   {
    "duration": 47,
    "start_time": "2024-11-10T07:03:31.195Z"
   },
   {
    "duration": 31,
    "start_time": "2024-11-10T07:03:58.213Z"
   },
   {
    "duration": 39,
    "start_time": "2024-11-10T07:06:05.719Z"
   },
   {
    "duration": 41,
    "start_time": "2024-11-10T07:06:55.693Z"
   },
   {
    "duration": 36,
    "start_time": "2024-11-10T07:07:06.758Z"
   },
   {
    "duration": 38,
    "start_time": "2024-11-10T07:08:16.045Z"
   },
   {
    "duration": 46,
    "start_time": "2024-11-10T07:08:25.522Z"
   },
   {
    "duration": 47,
    "start_time": "2024-11-10T07:09:09.945Z"
   },
   {
    "duration": 335,
    "start_time": "2024-11-10T07:09:56.957Z"
   },
   {
    "duration": 17,
    "start_time": "2024-11-10T07:10:09.300Z"
   },
   {
    "duration": 15,
    "start_time": "2024-11-10T07:10:13.465Z"
   },
   {
    "duration": 18,
    "start_time": "2024-11-10T07:10:37.865Z"
   },
   {
    "duration": 2,
    "start_time": "2024-11-10T07:11:35.698Z"
   },
   {
    "duration": 4,
    "start_time": "2024-11-10T07:11:39.828Z"
   },
   {
    "duration": 12,
    "start_time": "2024-11-10T07:12:27.198Z"
   },
   {
    "duration": 15,
    "start_time": "2024-11-10T07:15:51.705Z"
   },
   {
    "duration": 4219,
    "start_time": "2024-11-10T07:16:28.895Z"
   },
   {
    "duration": 5,
    "start_time": "2024-11-10T07:21:07.527Z"
   },
   {
    "duration": 4207,
    "start_time": "2024-11-10T07:21:40.206Z"
   },
   {
    "duration": 34,
    "start_time": "2024-11-10T07:26:37.361Z"
   },
   {
    "duration": 1748,
    "start_time": "2024-11-10T07:28:54.029Z"
   },
   {
    "duration": 1779,
    "start_time": "2024-11-10T07:29:08.155Z"
   },
   {
    "duration": 4191,
    "start_time": "2024-11-10T07:29:18.421Z"
   },
   {
    "duration": 12,
    "start_time": "2024-11-10T07:29:48.954Z"
   },
   {
    "duration": 11,
    "start_time": "2024-11-10T07:29:57.074Z"
   },
   {
    "duration": 2490,
    "start_time": "2024-11-10T07:30:20.053Z"
   },
   {
    "duration": 99,
    "start_time": "2024-11-10T07:34:15.362Z"
   },
   {
    "duration": 6,
    "start_time": "2024-11-10T07:35:29.067Z"
   },
   {
    "duration": 7,
    "start_time": "2024-11-10T07:36:01.626Z"
   },
   {
    "duration": 8,
    "start_time": "2024-11-10T07:36:29.977Z"
   },
   {
    "duration": 242,
    "start_time": "2024-11-10T07:38:31.206Z"
   },
   {
    "duration": 128,
    "start_time": "2024-11-10T07:39:18.174Z"
   },
   {
    "duration": 454,
    "start_time": "2024-11-10T07:39:43.992Z"
   },
   {
    "duration": 159,
    "start_time": "2024-11-11T04:50:15.534Z"
   },
   {
    "duration": 13,
    "start_time": "2024-11-11T04:51:23.413Z"
   },
   {
    "duration": 12,
    "start_time": "2024-11-11T04:52:32.642Z"
   },
   {
    "duration": 12,
    "start_time": "2024-11-11T04:52:33.615Z"
   },
   {
    "duration": 12,
    "start_time": "2024-11-11T04:52:36.306Z"
   },
   {
    "duration": 19,
    "start_time": "2024-11-11T04:52:37.295Z"
   },
   {
    "duration": 13,
    "start_time": "2024-11-11T04:52:38.480Z"
   },
   {
    "duration": 40,
    "start_time": "2024-11-11T04:52:41.304Z"
   },
   {
    "duration": 3,
    "start_time": "2024-11-11T04:52:42.210Z"
   },
   {
    "duration": 12,
    "start_time": "2024-11-11T04:52:43.937Z"
   },
   {
    "duration": 12,
    "start_time": "2024-11-11T04:52:44.774Z"
   },
   {
    "duration": 2,
    "start_time": "2024-11-11T04:52:45.635Z"
   },
   {
    "duration": 2,
    "start_time": "2024-11-11T04:52:46.539Z"
   },
   {
    "duration": 2,
    "start_time": "2024-11-11T04:52:47.050Z"
   },
   {
    "duration": 534,
    "start_time": "2024-11-11T04:52:52.216Z"
   },
   {
    "duration": 706,
    "start_time": "2024-11-11T04:52:54.634Z"
   },
   {
    "duration": 12,
    "start_time": "2024-11-11T04:52:55.658Z"
   },
   {
    "duration": 39,
    "start_time": "2024-11-11T04:52:58.061Z"
   },
   {
    "duration": 12,
    "start_time": "2024-11-11T04:53:11.560Z"
   },
   {
    "duration": 70,
    "start_time": "2024-11-11T04:53:14.766Z"
   },
   {
    "duration": 4,
    "start_time": "2024-11-11T04:53:18.422Z"
   },
   {
    "duration": 17,
    "start_time": "2024-11-11T04:53:19.045Z"
   },
   {
    "duration": 2,
    "start_time": "2024-11-11T04:53:19.833Z"
   },
   {
    "duration": 8,
    "start_time": "2024-11-11T04:53:21.590Z"
   },
   {
    "duration": 14,
    "start_time": "2024-11-11T04:53:23.814Z"
   },
   {
    "duration": 1836,
    "start_time": "2024-11-11T04:53:26.502Z"
   },
   {
    "duration": 0,
    "start_time": "2024-11-11T04:53:28.340Z"
   },
   {
    "duration": 1794,
    "start_time": "2024-11-11T04:53:37.039Z"
   },
   {
    "duration": 0,
    "start_time": "2024-11-11T04:53:38.834Z"
   },
   {
    "duration": 39,
    "start_time": "2024-11-11T04:53:43.285Z"
   },
   {
    "duration": 7,
    "start_time": "2024-11-11T04:53:44.905Z"
   },
   {
    "duration": 7,
    "start_time": "2024-11-11T04:53:45.611Z"
   },
   {
    "duration": 6,
    "start_time": "2024-11-11T04:53:48.573Z"
   },
   {
    "duration": 9,
    "start_time": "2024-11-11T04:53:51.315Z"
   },
   {
    "duration": 1754,
    "start_time": "2024-11-11T04:53:54.100Z"
   },
   {
    "duration": 2,
    "start_time": "2024-11-11T04:53:55.856Z"
   },
   {
    "duration": 127,
    "start_time": "2024-11-11T04:53:57.361Z"
   },
   {
    "duration": 460,
    "start_time": "2024-11-11T04:53:58.445Z"
   },
   {
    "duration": 498,
    "start_time": "2024-11-12T19:07:41.293Z"
   },
   {
    "duration": 14,
    "start_time": "2024-11-12T19:08:13.689Z"
   },
   {
    "duration": 171,
    "start_time": "2024-11-12T19:08:30.243Z"
   },
   {
    "duration": 134,
    "start_time": "2024-11-12T19:09:41.768Z"
   },
   {
    "duration": 130,
    "start_time": "2024-11-12T19:10:58.387Z"
   },
   {
    "duration": 130,
    "start_time": "2024-11-12T19:11:15.851Z"
   },
   {
    "duration": 199,
    "start_time": "2024-11-12T19:12:15.380Z"
   },
   {
    "duration": 37,
    "start_time": "2024-11-12T19:12:57.203Z"
   },
   {
    "duration": 28,
    "start_time": "2024-11-12T19:13:05.126Z"
   },
   {
    "duration": 12,
    "start_time": "2024-11-12T19:17:32.005Z"
   },
   {
    "duration": 12,
    "start_time": "2024-11-12T19:17:34.069Z"
   },
   {
    "duration": 12,
    "start_time": "2024-11-12T19:17:38.264Z"
   },
   {
    "duration": 12,
    "start_time": "2024-11-12T19:18:39.734Z"
   },
   {
    "duration": 51,
    "start_time": "2024-11-12T19:19:19.061Z"
   },
   {
    "duration": 19,
    "start_time": "2024-11-12T19:19:24.933Z"
   },
   {
    "duration": 5,
    "start_time": "2024-11-12T19:26:28.556Z"
   },
   {
    "duration": 3,
    "start_time": "2024-11-12T19:26:51.947Z"
   },
   {
    "duration": 4,
    "start_time": "2024-11-12T19:27:05.537Z"
   },
   {
    "duration": 4,
    "start_time": "2024-11-12T19:27:14.389Z"
   },
   {
    "duration": 13,
    "start_time": "2024-11-12T19:28:14.867Z"
   },
   {
    "duration": 22,
    "start_time": "2024-11-12T19:28:37.132Z"
   },
   {
    "duration": 12,
    "start_time": "2024-11-12T19:28:49.123Z"
   },
   {
    "duration": 4,
    "start_time": "2024-11-12T19:29:20.197Z"
   },
   {
    "duration": 3,
    "start_time": "2024-11-12T19:29:27.543Z"
   },
   {
    "duration": 4,
    "start_time": "2024-11-12T19:29:32.624Z"
   },
   {
    "duration": 10,
    "start_time": "2024-11-12T19:30:00.388Z"
   },
   {
    "duration": 15,
    "start_time": "2024-11-12T19:30:24.337Z"
   },
   {
    "duration": 11,
    "start_time": "2024-11-12T19:30:39.799Z"
   },
   {
    "duration": 5,
    "start_time": "2024-11-12T19:33:53.605Z"
   },
   {
    "duration": 5,
    "start_time": "2024-11-12T19:34:02.040Z"
   },
   {
    "duration": 14,
    "start_time": "2024-11-12T19:35:03.541Z"
   },
   {
    "duration": 11,
    "start_time": "2024-11-12T19:35:31.838Z"
   },
   {
    "duration": 12,
    "start_time": "2024-11-12T19:36:03.190Z"
   },
   {
    "duration": 13,
    "start_time": "2024-11-12T19:36:51.039Z"
   },
   {
    "duration": 1863,
    "start_time": "2024-11-12T19:38:20.039Z"
   },
   {
    "duration": 15,
    "start_time": "2024-11-12T19:38:31.823Z"
   },
   {
    "duration": 1802,
    "start_time": "2024-11-12T19:38:49.156Z"
   },
   {
    "duration": 4320,
    "start_time": "2024-11-12T19:39:08.760Z"
   },
   {
    "duration": 2456,
    "start_time": "2024-11-12T19:39:34.983Z"
   },
   {
    "duration": 73,
    "start_time": "2024-11-12T19:54:54.390Z"
   },
   {
    "duration": 164,
    "start_time": "2024-11-13T04:28:24.376Z"
   },
   {
    "duration": 477,
    "start_time": "2024-11-13T04:28:49.977Z"
   },
   {
    "duration": 129,
    "start_time": "2024-11-13T04:28:53.717Z"
   },
   {
    "duration": 114,
    "start_time": "2024-11-13T04:29:08.530Z"
   },
   {
    "duration": 5,
    "start_time": "2024-11-13T04:30:31.621Z"
   },
   {
    "duration": 6,
    "start_time": "2024-11-13T04:37:45.106Z"
   },
   {
    "duration": 5,
    "start_time": "2024-11-13T04:38:54.886Z"
   },
   {
    "duration": 41,
    "start_time": "2024-11-13T04:40:29.299Z"
   },
   {
    "duration": 7,
    "start_time": "2024-11-13T04:41:37.556Z"
   },
   {
    "duration": 5,
    "start_time": "2024-11-13T04:46:13.007Z"
   },
   {
    "duration": 5,
    "start_time": "2024-11-13T04:56:36.833Z"
   },
   {
    "duration": 4,
    "start_time": "2024-11-13T04:57:04.004Z"
   },
   {
    "duration": 4,
    "start_time": "2024-11-13T04:57:33.514Z"
   },
   {
    "duration": 4,
    "start_time": "2024-11-13T04:57:51.106Z"
   },
   {
    "duration": 4,
    "start_time": "2024-11-13T04:59:46.496Z"
   },
   {
    "duration": 2134,
    "start_time": "2024-11-13T04:59:58.316Z"
   },
   {
    "duration": 167,
    "start_time": "2024-11-13T05:00:27.430Z"
   },
   {
    "duration": 244,
    "start_time": "2024-11-13T05:01:14.917Z"
   },
   {
    "duration": 6,
    "start_time": "2024-11-13T05:02:58.411Z"
   },
   {
    "duration": 5,
    "start_time": "2024-11-13T05:03:07.001Z"
   },
   {
    "duration": 271,
    "start_time": "2024-11-13T05:03:12.762Z"
   },
   {
    "duration": 249,
    "start_time": "2024-11-13T05:03:24.428Z"
   },
   {
    "duration": 242,
    "start_time": "2024-11-13T05:05:38.758Z"
   },
   {
    "duration": 247,
    "start_time": "2024-11-13T05:08:25.540Z"
   },
   {
    "duration": 264,
    "start_time": "2024-11-13T05:10:34.648Z"
   },
   {
    "duration": 15,
    "start_time": "2024-11-13T05:30:21.185Z"
   },
   {
    "duration": 16,
    "start_time": "2024-11-13T05:30:44.152Z"
   },
   {
    "duration": 16,
    "start_time": "2024-11-13T05:30:53.130Z"
   },
   {
    "duration": 250,
    "start_time": "2024-11-13T05:31:03.425Z"
   },
   {
    "duration": 299,
    "start_time": "2024-11-13T05:33:46.073Z"
   },
   {
    "duration": 441,
    "start_time": "2024-11-13T05:35:27.112Z"
   },
   {
    "duration": 41,
    "start_time": "2024-11-13T05:35:45.557Z"
   },
   {
    "duration": 156,
    "start_time": "2024-11-13T05:36:20.309Z"
   },
   {
    "duration": 734,
    "start_time": "2024-11-13T18:51:50.114Z"
   },
   {
    "duration": 175,
    "start_time": "2024-11-13T18:53:37.395Z"
   },
   {
    "duration": 19,
    "start_time": "2024-11-13T18:54:13.120Z"
   },
   {
    "duration": 13,
    "start_time": "2024-11-13T18:55:53.846Z"
   },
   {
    "duration": 13,
    "start_time": "2024-11-13T18:56:12.955Z"
   },
   {
    "duration": 12,
    "start_time": "2024-11-13T18:56:13.742Z"
   },
   {
    "duration": 13,
    "start_time": "2024-11-13T18:56:15.930Z"
   },
   {
    "duration": 12,
    "start_time": "2024-11-13T18:56:38.554Z"
   },
   {
    "duration": 12,
    "start_time": "2024-11-13T18:56:39.371Z"
   },
   {
    "duration": 91,
    "start_time": "2024-11-13T18:57:13.092Z"
   },
   {
    "duration": 84,
    "start_time": "2024-11-13T18:59:40.510Z"
   },
   {
    "duration": 652,
    "start_time": "2024-11-13T19:01:07.648Z"
   },
   {
    "duration": 83,
    "start_time": "2024-11-13T19:01:49.111Z"
   },
   {
    "duration": 95,
    "start_time": "2024-11-13T19:04:26.929Z"
   },
   {
    "duration": 104,
    "start_time": "2024-11-13T19:05:16.010Z"
   },
   {
    "duration": 116,
    "start_time": "2024-11-13T19:05:39.705Z"
   },
   {
    "duration": 155,
    "start_time": "2024-11-13T19:06:10.726Z"
   },
   {
    "duration": 10,
    "start_time": "2024-11-13T19:06:54.412Z"
   },
   {
    "duration": 9,
    "start_time": "2024-11-13T19:06:59.866Z"
   },
   {
    "duration": 6,
    "start_time": "2024-11-13T19:07:36.440Z"
   },
   {
    "duration": 8,
    "start_time": "2024-11-13T19:07:47.267Z"
   },
   {
    "duration": 372,
    "start_time": "2024-11-13T19:08:27.864Z"
   },
   {
    "duration": 459,
    "start_time": "2024-11-13T19:11:41.060Z"
   },
   {
    "duration": 385,
    "start_time": "2024-11-13T19:12:17.493Z"
   },
   {
    "duration": 387,
    "start_time": "2024-11-13T19:12:47.242Z"
   },
   {
    "duration": 208,
    "start_time": "2024-11-13T19:13:54.015Z"
   },
   {
    "duration": 130,
    "start_time": "2024-11-13T19:14:39.506Z"
   },
   {
    "duration": 407,
    "start_time": "2024-11-13T19:15:10.007Z"
   },
   {
    "duration": 406,
    "start_time": "2024-11-13T19:15:20.270Z"
   },
   {
    "duration": 19,
    "start_time": "2024-11-13T19:17:13.882Z"
   },
   {
    "duration": 13,
    "start_time": "2024-11-13T19:18:12.966Z"
   },
   {
    "duration": 1985,
    "start_time": "2024-11-13T19:18:45.320Z"
   },
   {
    "duration": 2123,
    "start_time": "2024-11-13T19:19:42.600Z"
   },
   {
    "duration": 2109,
    "start_time": "2024-11-13T19:19:53.584Z"
   },
   {
    "duration": 2027,
    "start_time": "2024-11-13T19:24:11.237Z"
   },
   {
    "duration": 2013,
    "start_time": "2024-11-13T19:24:36.826Z"
   },
   {
    "duration": 2110,
    "start_time": "2024-11-13T19:24:48.360Z"
   },
   {
    "duration": 472,
    "start_time": "2024-11-13T19:24:50.471Z"
   },
   {
    "duration": 2,
    "start_time": "2024-11-13T19:24:51.069Z"
   },
   {
    "duration": 2117,
    "start_time": "2024-11-13T19:27:19.847Z"
   },
   {
    "duration": 6,
    "start_time": "2024-11-13T19:28:18.406Z"
   },
   {
    "duration": 2932,
    "start_time": "2024-11-13T19:28:32.218Z"
   },
   {
    "duration": 2963,
    "start_time": "2024-11-13T19:28:38.161Z"
   },
   {
    "duration": 432,
    "start_time": "2024-11-13T19:28:41.127Z"
   },
   {
    "duration": 102,
    "start_time": "2024-11-13T19:28:41.561Z"
   },
   {
    "duration": 108,
    "start_time": "2024-11-13T19:30:28.451Z"
   },
   {
    "duration": 40,
    "start_time": "2024-11-13T19:31:51.631Z"
   },
   {
    "duration": 14,
    "start_time": "2024-11-13T19:37:17.546Z"
   },
   {
    "duration": 190,
    "start_time": "2024-11-13T19:37:50.448Z"
   },
   {
    "duration": 154,
    "start_time": "2024-11-13T19:38:08.745Z"
   },
   {
    "duration": 3663,
    "start_time": "2024-11-13T19:43:04.922Z"
   },
   {
    "duration": 1631,
    "start_time": "2024-11-13T19:43:09.697Z"
   },
   {
    "duration": 148,
    "start_time": "2024-11-13T19:44:38.993Z"
   },
   {
    "duration": 166,
    "start_time": "2024-11-13T19:45:27.883Z"
   },
   {
    "duration": 595,
    "start_time": "2024-11-13T21:20:55.914Z"
   },
   {
    "duration": 131,
    "start_time": "2024-11-13T21:20:56.511Z"
   },
   {
    "duration": 187,
    "start_time": "2024-11-13T21:20:56.643Z"
   },
   {
    "duration": 37,
    "start_time": "2024-11-13T21:20:56.832Z"
   },
   {
    "duration": 39,
    "start_time": "2024-11-13T21:20:56.871Z"
   },
   {
    "duration": 73,
    "start_time": "2024-11-13T21:20:56.911Z"
   },
   {
    "duration": 34,
    "start_time": "2024-11-13T21:20:56.986Z"
   },
   {
    "duration": 18,
    "start_time": "2024-11-13T21:20:57.021Z"
   },
   {
    "duration": 11,
    "start_time": "2024-11-13T21:20:57.040Z"
   },
   {
    "duration": 13,
    "start_time": "2024-11-13T21:20:57.054Z"
   },
   {
    "duration": 13,
    "start_time": "2024-11-13T21:20:57.069Z"
   },
   {
    "duration": 4339,
    "start_time": "2024-11-13T21:20:57.083Z"
   },
   {
    "duration": 2461,
    "start_time": "2024-11-13T21:21:01.424Z"
   },
   {
    "duration": 146,
    "start_time": "2024-11-13T21:21:03.887Z"
   },
   {
    "duration": 8,
    "start_time": "2024-11-13T21:21:04.035Z"
   },
   {
    "duration": 8,
    "start_time": "2024-11-13T21:21:04.045Z"
   },
   {
    "duration": 5,
    "start_time": "2024-11-13T21:21:04.055Z"
   },
   {
    "duration": 8,
    "start_time": "2024-11-13T21:21:04.062Z"
   },
   {
    "duration": 421,
    "start_time": "2024-11-13T21:21:04.071Z"
   },
   {
    "duration": 23,
    "start_time": "2024-11-13T21:21:04.494Z"
   },
   {
    "duration": 3011,
    "start_time": "2024-11-13T21:21:04.518Z"
   },
   {
    "duration": 444,
    "start_time": "2024-11-13T21:21:07.531Z"
   },
   {
    "duration": 13,
    "start_time": "2024-11-13T21:21:07.978Z"
   },
   {
    "duration": 123,
    "start_time": "2024-11-13T21:21:07.993Z"
   },
   {
    "duration": 40,
    "start_time": "2024-11-13T21:21:08.118Z"
   },
   {
    "duration": 132,
    "start_time": "2024-11-13T21:21:08.160Z"
   },
   {
    "duration": 5,
    "start_time": "2024-11-13T21:21:08.294Z"
   },
   {
    "duration": 6,
    "start_time": "2024-11-13T21:21:08.308Z"
   },
   {
    "duration": 5,
    "start_time": "2024-11-13T21:21:08.316Z"
   },
   {
    "duration": 4,
    "start_time": "2024-11-13T21:21:08.324Z"
   },
   {
    "duration": 2225,
    "start_time": "2024-11-13T21:21:08.330Z"
   },
   {
    "duration": 153,
    "start_time": "2024-11-13T21:21:10.557Z"
   },
   {
    "duration": 1710,
    "start_time": "2024-11-13T21:21:10.712Z"
   },
   {
    "duration": 189,
    "start_time": "2024-11-13T21:21:12.424Z"
   },
   {
    "duration": 2947,
    "start_time": "2024-11-14T00:26:17.747Z"
   },
   {
    "duration": 483,
    "start_time": "2024-11-14T00:26:33.453Z"
   },
   {
    "duration": 6,
    "start_time": "2024-11-14T00:31:29.371Z"
   },
   {
    "duration": 230,
    "start_time": "2024-11-14T00:31:53.466Z"
   },
   {
    "duration": 211,
    "start_time": "2024-11-14T00:31:59.725Z"
   },
   {
    "duration": 19,
    "start_time": "2024-11-14T00:32:33.190Z"
   },
   {
    "duration": 16,
    "start_time": "2024-11-14T00:32:38.842Z"
   },
   {
    "duration": 3830,
    "start_time": "2024-11-14T00:32:45.778Z"
   },
   {
    "duration": 16,
    "start_time": "2024-11-14T00:33:20.569Z"
   },
   {
    "duration": 2114,
    "start_time": "2024-11-14T00:33:50.294Z"
   },
   {
    "duration": 4898,
    "start_time": "2024-11-14T00:34:19.575Z"
   },
   {
    "duration": 360,
    "start_time": "2024-11-14T00:34:41.394Z"
   },
   {
    "duration": 416,
    "start_time": "2024-11-14T00:35:02.404Z"
   },
   {
    "duration": 223,
    "start_time": "2024-11-14T00:35:21.349Z"
   },
   {
    "duration": 80,
    "start_time": "2024-11-14T00:35:32.883Z"
   },
   {
    "duration": 387,
    "start_time": "2024-11-14T05:05:37.927Z"
   },
   {
    "duration": 3,
    "start_time": "2024-11-14T05:05:57.028Z"
   },
   {
    "duration": 3,
    "start_time": "2024-11-14T05:06:00.728Z"
   },
   {
    "duration": 19,
    "start_time": "2024-11-14T05:06:01.735Z"
   },
   {
    "duration": 12,
    "start_time": "2024-11-14T05:06:03.389Z"
   },
   {
    "duration": 14,
    "start_time": "2024-11-14T05:06:06.660Z"
   },
   {
    "duration": 14,
    "start_time": "2024-11-14T05:06:10.994Z"
   },
   {
    "duration": 176,
    "start_time": "2024-11-14T05:06:38.525Z"
   },
   {
    "duration": 14,
    "start_time": "2024-11-14T05:06:42.229Z"
   },
   {
    "duration": 15,
    "start_time": "2024-11-14T05:07:03.844Z"
   },
   {
    "duration": 2245,
    "start_time": "2024-11-14T05:07:41.720Z"
   },
   {
    "duration": 455,
    "start_time": "2024-11-14T05:07:44.117Z"
   },
   {
    "duration": 2139,
    "start_time": "2024-11-14T05:07:44.961Z"
   },
   {
    "duration": 0,
    "start_time": "2024-11-14T05:08:00.303Z"
   },
   {
    "duration": 0,
    "start_time": "2024-11-14T05:08:00.304Z"
   },
   {
    "duration": 0,
    "start_time": "2024-11-14T05:08:00.323Z"
   },
   {
    "duration": 0,
    "start_time": "2024-11-14T05:08:00.324Z"
   },
   {
    "duration": 0,
    "start_time": "2024-11-14T05:08:00.325Z"
   },
   {
    "duration": 0,
    "start_time": "2024-11-14T05:08:00.326Z"
   },
   {
    "duration": 0,
    "start_time": "2024-11-14T05:08:00.327Z"
   },
   {
    "duration": 0,
    "start_time": "2024-11-14T05:08:00.330Z"
   },
   {
    "duration": 0,
    "start_time": "2024-11-14T05:08:00.332Z"
   },
   {
    "duration": 0,
    "start_time": "2024-11-14T05:08:00.333Z"
   },
   {
    "duration": 0,
    "start_time": "2024-11-14T05:08:00.334Z"
   },
   {
    "duration": 0,
    "start_time": "2024-11-14T05:08:00.335Z"
   },
   {
    "duration": 0,
    "start_time": "2024-11-14T05:08:00.336Z"
   },
   {
    "duration": 0,
    "start_time": "2024-11-14T05:08:00.337Z"
   },
   {
    "duration": 0,
    "start_time": "2024-11-14T05:08:00.338Z"
   },
   {
    "duration": 0,
    "start_time": "2024-11-14T05:08:00.340Z"
   },
   {
    "duration": 0,
    "start_time": "2024-11-14T05:08:00.341Z"
   },
   {
    "duration": 0,
    "start_time": "2024-11-14T05:08:00.342Z"
   },
   {
    "duration": 0,
    "start_time": "2024-11-14T05:08:00.343Z"
   },
   {
    "duration": 0,
    "start_time": "2024-11-14T05:08:00.344Z"
   },
   {
    "duration": 0,
    "start_time": "2024-11-14T05:08:00.345Z"
   },
   {
    "duration": 0,
    "start_time": "2024-11-14T05:08:00.346Z"
   },
   {
    "duration": 0,
    "start_time": "2024-11-14T05:08:00.347Z"
   },
   {
    "duration": 0,
    "start_time": "2024-11-14T05:08:00.348Z"
   },
   {
    "duration": 0,
    "start_time": "2024-11-14T05:08:00.349Z"
   },
   {
    "duration": 0,
    "start_time": "2024-11-14T05:08:00.350Z"
   },
   {
    "duration": 0,
    "start_time": "2024-11-14T05:08:00.351Z"
   },
   {
    "duration": 0,
    "start_time": "2024-11-14T05:08:00.352Z"
   },
   {
    "duration": 0,
    "start_time": "2024-11-14T05:08:00.353Z"
   },
   {
    "duration": 0,
    "start_time": "2024-11-14T05:08:00.353Z"
   },
   {
    "duration": 0,
    "start_time": "2024-11-14T05:08:00.354Z"
   },
   {
    "duration": 0,
    "start_time": "2024-11-14T05:08:00.355Z"
   },
   {
    "duration": 0,
    "start_time": "2024-11-14T05:08:00.356Z"
   },
   {
    "duration": 0,
    "start_time": "2024-11-14T05:08:00.357Z"
   },
   {
    "duration": 582,
    "start_time": "2024-11-14T05:27:45.755Z"
   },
   {
    "duration": 130,
    "start_time": "2024-11-14T05:27:46.340Z"
   },
   {
    "duration": 182,
    "start_time": "2024-11-14T05:27:46.474Z"
   },
   {
    "duration": 37,
    "start_time": "2024-11-14T05:27:46.657Z"
   },
   {
    "duration": 35,
    "start_time": "2024-11-14T05:27:46.697Z"
   },
   {
    "duration": 63,
    "start_time": "2024-11-14T05:27:46.734Z"
   },
   {
    "duration": 4,
    "start_time": "2024-11-14T05:27:46.799Z"
   },
   {
    "duration": 17,
    "start_time": "2024-11-14T05:27:46.805Z"
   },
   {
    "duration": 15,
    "start_time": "2024-11-14T05:27:46.823Z"
   },
   {
    "duration": 13,
    "start_time": "2024-11-14T05:27:46.839Z"
   },
   {
    "duration": 12,
    "start_time": "2024-11-14T05:27:46.853Z"
   },
   {
    "duration": 4264,
    "start_time": "2024-11-14T05:27:46.867Z"
   },
   {
    "duration": 2376,
    "start_time": "2024-11-14T05:27:51.133Z"
   },
   {
    "duration": 118,
    "start_time": "2024-11-14T05:27:53.513Z"
   },
   {
    "duration": 9,
    "start_time": "2024-11-14T05:27:53.633Z"
   },
   {
    "duration": 9,
    "start_time": "2024-11-14T05:27:53.643Z"
   },
   {
    "duration": 6,
    "start_time": "2024-11-14T05:27:53.653Z"
   },
   {
    "duration": 7,
    "start_time": "2024-11-14T05:27:53.661Z"
   },
   {
    "duration": 309,
    "start_time": "2024-11-14T05:27:53.669Z"
   },
   {
    "duration": 13,
    "start_time": "2024-11-14T05:27:53.979Z"
   },
   {
    "duration": 2107,
    "start_time": "2024-11-14T05:27:53.994Z"
   },
   {
    "duration": 463,
    "start_time": "2024-11-14T05:27:56.103Z"
   },
   {
    "duration": 2158,
    "start_time": "2024-11-14T05:27:56.568Z"
   },
   {
    "duration": 13516,
    "start_time": "2024-11-14T05:27:58.732Z"
   },
   {
    "duration": 71,
    "start_time": "2024-11-14T05:28:12.250Z"
   },
   {
    "duration": 6,
    "start_time": "2024-11-14T05:28:12.331Z"
   },
   {
    "duration": 5,
    "start_time": "2024-11-14T05:28:12.338Z"
   },
   {
    "duration": 6,
    "start_time": "2024-11-14T05:28:12.344Z"
   },
   {
    "duration": 5,
    "start_time": "2024-11-14T05:28:12.352Z"
   },
   {
    "duration": 3,
    "start_time": "2024-11-14T05:28:12.358Z"
   },
   {
    "duration": 216,
    "start_time": "2024-11-14T05:28:12.363Z"
   },
   {
    "duration": 0,
    "start_time": "2024-11-14T05:28:12.581Z"
   },
   {
    "duration": 0,
    "start_time": "2024-11-14T05:28:12.581Z"
   },
   {
    "duration": 0,
    "start_time": "2024-11-14T05:28:12.583Z"
   },
   {
    "duration": 495,
    "start_time": "2024-11-14T05:42:50.491Z"
   },
   {
    "duration": 247,
    "start_time": "2024-11-14T05:43:06.741Z"
   },
   {
    "duration": 531,
    "start_time": "2024-11-14T18:34:46.939Z"
   },
   {
    "duration": 194,
    "start_time": "2024-11-14T18:35:02.370Z"
   },
   {
    "duration": 181,
    "start_time": "2024-11-14T18:35:21.231Z"
   },
   {
    "duration": 180,
    "start_time": "2024-11-14T18:36:53.361Z"
   },
   {
    "duration": 14,
    "start_time": "2024-11-14T18:37:03.398Z"
   },
   {
    "duration": 177,
    "start_time": "2024-11-14T18:37:15.215Z"
   },
   {
    "duration": 174,
    "start_time": "2024-11-14T18:37:57.402Z"
   },
   {
    "duration": 175,
    "start_time": "2024-11-14T18:38:46.675Z"
   },
   {
    "duration": 14,
    "start_time": "2024-11-14T18:39:57.706Z"
   },
   {
    "duration": 73,
    "start_time": "2024-11-14T18:40:31.498Z"
   },
   {
    "duration": 36,
    "start_time": "2024-11-14T18:40:37.917Z"
   },
   {
    "duration": 44,
    "start_time": "2024-11-14T18:40:40.488Z"
   },
   {
    "duration": 50,
    "start_time": "2024-11-14T18:41:04.103Z"
   },
   {
    "duration": 24,
    "start_time": "2024-11-14T18:41:04.907Z"
   },
   {
    "duration": 35,
    "start_time": "2024-11-14T18:41:33.916Z"
   },
   {
    "duration": 22,
    "start_time": "2024-11-14T18:41:40.785Z"
   },
   {
    "duration": 17,
    "start_time": "2024-11-14T18:41:47.180Z"
   },
   {
    "duration": 71,
    "start_time": "2024-11-14T18:41:51.629Z"
   },
   {
    "duration": 47,
    "start_time": "2024-11-14T18:42:51.172Z"
   },
   {
    "duration": 47,
    "start_time": "2024-11-14T18:43:36.043Z"
   },
   {
    "duration": 18,
    "start_time": "2024-11-14T18:44:34.549Z"
   },
   {
    "duration": 3,
    "start_time": "2024-11-14T18:44:42.384Z"
   },
   {
    "duration": 17,
    "start_time": "2024-11-14T18:45:10.631Z"
   },
   {
    "duration": 9,
    "start_time": "2024-11-14T18:45:26.896Z"
   },
   {
    "duration": 11,
    "start_time": "2024-11-14T18:45:32.068Z"
   },
   {
    "duration": 16,
    "start_time": "2024-11-14T18:45:42.728Z"
   },
   {
    "duration": 12,
    "start_time": "2024-11-14T18:47:45.495Z"
   },
   {
    "duration": 11,
    "start_time": "2024-11-14T18:48:12.879Z"
   },
   {
    "duration": 223,
    "start_time": "2024-11-14T18:49:12.445Z"
   },
   {
    "duration": 12,
    "start_time": "2024-11-14T18:49:26.777Z"
   },
   {
    "duration": 16,
    "start_time": "2024-11-14T18:50:44.311Z"
   },
   {
    "duration": 9,
    "start_time": "2024-11-14T18:51:07.771Z"
   },
   {
    "duration": 5,
    "start_time": "2024-11-14T18:51:14.004Z"
   },
   {
    "duration": 4472,
    "start_time": "2024-11-14T18:53:46.393Z"
   },
   {
    "duration": 4331,
    "start_time": "2024-11-14T18:54:20.445Z"
   },
   {
    "duration": 2521,
    "start_time": "2024-11-14T18:55:22.495Z"
   },
   {
    "duration": 12,
    "start_time": "2024-11-14T18:55:32.339Z"
   },
   {
    "duration": 2473,
    "start_time": "2024-11-14T18:55:49.312Z"
   },
   {
    "duration": 120,
    "start_time": "2024-11-14T18:57:23.297Z"
   },
   {
    "duration": 9,
    "start_time": "2024-11-14T18:58:23.899Z"
   },
   {
    "duration": 9,
    "start_time": "2024-11-14T18:58:25.197Z"
   },
   {
    "duration": 7,
    "start_time": "2024-11-14T18:59:16.064Z"
   },
   {
    "duration": 287,
    "start_time": "2024-11-14T19:00:04.942Z"
   },
   {
    "duration": 281,
    "start_time": "2024-11-14T19:00:14.355Z"
   },
   {
    "duration": 12,
    "start_time": "2024-11-14T19:00:34.216Z"
   },
   {
    "duration": 345,
    "start_time": "2024-11-14T19:01:50.188Z"
   },
   {
    "duration": 2139,
    "start_time": "2024-11-14T19:02:29.433Z"
   },
   {
    "duration": 13730,
    "start_time": "2024-11-14T19:03:01.789Z"
   },
   {
    "duration": 5,
    "start_time": "2024-11-14T19:03:16.447Z"
   },
   {
    "duration": 4,
    "start_time": "2024-11-14T19:03:26.271Z"
   },
   {
    "duration": 5,
    "start_time": "2024-11-14T19:03:43.467Z"
   },
   {
    "duration": 8,
    "start_time": "2024-11-14T19:03:52.571Z"
   },
   {
    "duration": 4,
    "start_time": "2024-11-14T19:04:10.919Z"
   },
   {
    "duration": 21,
    "start_time": "2024-11-14T19:04:48.053Z"
   },
   {
    "duration": 23,
    "start_time": "2024-11-14T19:05:35.151Z"
   },
   {
    "duration": 2002,
    "start_time": "2024-11-14T19:05:54.939Z"
   },
   {
    "duration": 22,
    "start_time": "2024-11-14T19:06:02.353Z"
   },
   {
    "duration": 21,
    "start_time": "2024-11-14T19:06:14.484Z"
   },
   {
    "duration": 21,
    "start_time": "2024-11-14T19:06:48.440Z"
   },
   {
    "duration": 2229,
    "start_time": "2024-11-14T19:08:14.024Z"
   },
   {
    "duration": 7,
    "start_time": "2024-11-14T19:12:20.011Z"
   },
   {
    "duration": 5,
    "start_time": "2024-11-14T19:13:16.088Z"
   },
   {
    "duration": 7,
    "start_time": "2024-11-14T19:13:57.090Z"
   },
   {
    "duration": 235,
    "start_time": "2024-11-14T19:16:17.169Z"
   },
   {
    "duration": 5,
    "start_time": "2024-11-14T19:17:18.460Z"
   },
   {
    "duration": 4,
    "start_time": "2024-11-14T19:17:31.508Z"
   },
   {
    "duration": 141,
    "start_time": "2024-11-14T19:18:44.412Z"
   },
   {
    "duration": 138,
    "start_time": "2024-11-14T19:18:50.772Z"
   },
   {
    "duration": 19,
    "start_time": "2024-11-14T19:19:00.226Z"
   },
   {
    "duration": 11994,
    "start_time": "2024-11-14T19:19:27.660Z"
   },
   {
    "duration": 20,
    "start_time": "2024-11-14T19:20:39.829Z"
   },
   {
    "duration": 14,
    "start_time": "2024-11-14T19:23:56.059Z"
   },
   {
    "duration": 6,
    "start_time": "2024-11-14T19:24:04.586Z"
   },
   {
    "duration": 245,
    "start_time": "2024-11-14T19:24:15.385Z"
   },
   {
    "duration": 6,
    "start_time": "2024-11-14T19:26:01.022Z"
   },
   {
    "duration": 143,
    "start_time": "2024-11-14T19:27:47.716Z"
   },
   {
    "duration": 155,
    "start_time": "2024-11-14T19:28:14.994Z"
   },
   {
    "duration": 145,
    "start_time": "2024-11-14T19:28:28.357Z"
   },
   {
    "duration": 9,
    "start_time": "2024-11-14T21:48:14.592Z"
   },
   {
    "duration": 0,
    "start_time": "2024-11-14T21:48:14.603Z"
   },
   {
    "duration": 0,
    "start_time": "2024-11-14T21:48:14.604Z"
   },
   {
    "duration": 0,
    "start_time": "2024-11-14T21:48:14.605Z"
   },
   {
    "duration": 0,
    "start_time": "2024-11-14T21:48:14.606Z"
   },
   {
    "duration": 0,
    "start_time": "2024-11-14T21:48:14.607Z"
   },
   {
    "duration": 0,
    "start_time": "2024-11-14T21:48:14.608Z"
   },
   {
    "duration": 0,
    "start_time": "2024-11-14T21:48:14.609Z"
   },
   {
    "duration": 0,
    "start_time": "2024-11-14T21:48:14.611Z"
   },
   {
    "duration": 0,
    "start_time": "2024-11-14T21:48:14.612Z"
   },
   {
    "duration": 0,
    "start_time": "2024-11-14T21:48:14.613Z"
   },
   {
    "duration": 0,
    "start_time": "2024-11-14T21:48:14.615Z"
   },
   {
    "duration": 0,
    "start_time": "2024-11-14T21:48:14.616Z"
   },
   {
    "duration": 222,
    "start_time": "2024-11-14T21:48:14.619Z"
   },
   {
    "duration": 0,
    "start_time": "2024-11-14T21:48:14.843Z"
   },
   {
    "duration": 0,
    "start_time": "2024-11-14T21:48:14.844Z"
   },
   {
    "duration": 0,
    "start_time": "2024-11-14T21:48:14.850Z"
   },
   {
    "duration": 0,
    "start_time": "2024-11-14T21:48:14.852Z"
   },
   {
    "duration": 0,
    "start_time": "2024-11-14T21:48:14.853Z"
   },
   {
    "duration": 0,
    "start_time": "2024-11-14T21:48:14.855Z"
   },
   {
    "duration": 0,
    "start_time": "2024-11-14T21:48:14.856Z"
   },
   {
    "duration": 0,
    "start_time": "2024-11-14T21:48:14.858Z"
   },
   {
    "duration": 0,
    "start_time": "2024-11-14T21:48:14.859Z"
   },
   {
    "duration": 0,
    "start_time": "2024-11-14T21:48:14.861Z"
   },
   {
    "duration": 0,
    "start_time": "2024-11-14T21:48:14.862Z"
   },
   {
    "duration": 0,
    "start_time": "2024-11-14T21:48:14.864Z"
   },
   {
    "duration": 0,
    "start_time": "2024-11-14T21:48:14.865Z"
   },
   {
    "duration": 0,
    "start_time": "2024-11-14T21:48:14.866Z"
   },
   {
    "duration": 0,
    "start_time": "2024-11-14T21:48:14.867Z"
   },
   {
    "duration": 0,
    "start_time": "2024-11-14T21:48:14.868Z"
   },
   {
    "duration": 0,
    "start_time": "2024-11-14T21:48:14.869Z"
   },
   {
    "duration": 0,
    "start_time": "2024-11-14T21:48:14.906Z"
   },
   {
    "duration": 0,
    "start_time": "2024-11-14T21:48:14.907Z"
   },
   {
    "duration": 0,
    "start_time": "2024-11-14T21:48:14.908Z"
   },
   {
    "duration": 5,
    "start_time": "2024-11-14T21:48:33.477Z"
   },
   {
    "duration": 4190,
    "start_time": "2024-11-14T21:48:39.863Z"
   },
   {
    "duration": 2504,
    "start_time": "2024-11-14T21:48:52.740Z"
   },
   {
    "duration": 9,
    "start_time": "2024-11-14T21:48:55.247Z"
   },
   {
    "duration": 104,
    "start_time": "2024-11-14T21:48:55.258Z"
   },
   {
    "duration": 52,
    "start_time": "2024-11-14T21:48:55.365Z"
   },
   {
    "duration": 28,
    "start_time": "2024-11-14T21:48:55.419Z"
   },
   {
    "duration": 22,
    "start_time": "2024-11-14T21:48:55.449Z"
   },
   {
    "duration": 212,
    "start_time": "2024-11-14T21:48:55.473Z"
   },
   {
    "duration": 0,
    "start_time": "2024-11-14T21:48:55.688Z"
   },
   {
    "duration": 0,
    "start_time": "2024-11-14T21:48:55.690Z"
   },
   {
    "duration": 0,
    "start_time": "2024-11-14T21:48:55.691Z"
   },
   {
    "duration": 0,
    "start_time": "2024-11-14T21:48:55.704Z"
   },
   {
    "duration": 0,
    "start_time": "2024-11-14T21:48:55.706Z"
   },
   {
    "duration": 0,
    "start_time": "2024-11-14T21:48:55.707Z"
   },
   {
    "duration": 0,
    "start_time": "2024-11-14T21:48:55.709Z"
   },
   {
    "duration": 0,
    "start_time": "2024-11-14T21:48:55.710Z"
   },
   {
    "duration": 0,
    "start_time": "2024-11-14T21:48:55.711Z"
   },
   {
    "duration": 0,
    "start_time": "2024-11-14T21:48:55.713Z"
   },
   {
    "duration": 0,
    "start_time": "2024-11-14T21:48:55.715Z"
   },
   {
    "duration": 0,
    "start_time": "2024-11-14T21:48:55.716Z"
   },
   {
    "duration": 0,
    "start_time": "2024-11-14T21:48:55.718Z"
   },
   {
    "duration": 0,
    "start_time": "2024-11-14T21:48:55.719Z"
   },
   {
    "duration": 0,
    "start_time": "2024-11-14T21:48:55.721Z"
   },
   {
    "duration": 0,
    "start_time": "2024-11-14T21:48:55.722Z"
   },
   {
    "duration": 0,
    "start_time": "2024-11-14T21:48:55.724Z"
   },
   {
    "duration": 0,
    "start_time": "2024-11-14T21:48:55.725Z"
   },
   {
    "duration": 0,
    "start_time": "2024-11-14T21:48:55.726Z"
   },
   {
    "duration": 0,
    "start_time": "2024-11-14T21:48:55.727Z"
   },
   {
    "duration": 0,
    "start_time": "2024-11-14T21:48:55.728Z"
   },
   {
    "duration": 0,
    "start_time": "2024-11-14T21:48:55.729Z"
   },
   {
    "duration": 0,
    "start_time": "2024-11-14T21:48:55.730Z"
   },
   {
    "duration": 0,
    "start_time": "2024-11-14T21:48:55.732Z"
   },
   {
    "duration": 0,
    "start_time": "2024-11-14T21:48:55.734Z"
   },
   {
    "duration": 0,
    "start_time": "2024-11-14T21:48:55.735Z"
   },
   {
    "duration": 0,
    "start_time": "2024-11-14T21:48:55.737Z"
   },
   {
    "duration": 159,
    "start_time": "2024-11-15T04:39:37.713Z"
   },
   {
    "duration": 12,
    "start_time": "2024-11-15T04:39:47.651Z"
   },
   {
    "duration": 4337,
    "start_time": "2024-11-15T04:41:08.690Z"
   },
   {
    "duration": 2076,
    "start_time": "2024-11-15T04:41:56.850Z"
   },
   {
    "duration": 1984,
    "start_time": "2024-11-15T04:42:22.492Z"
   },
   {
    "duration": 20,
    "start_time": "2024-11-15T04:42:27.127Z"
   },
   {
    "duration": 3,
    "start_time": "2024-11-15T04:42:31.997Z"
   },
   {
    "duration": 316,
    "start_time": "2024-11-15T04:44:22.248Z"
   },
   {
    "duration": 34,
    "start_time": "2024-11-15T04:44:26.468Z"
   },
   {
    "duration": 23,
    "start_time": "2024-11-15T04:44:27.032Z"
   },
   {
    "duration": 18,
    "start_time": "2024-11-15T04:44:29.000Z"
   },
   {
    "duration": 3,
    "start_time": "2024-11-15T04:44:29.680Z"
   },
   {
    "duration": 147,
    "start_time": "2024-11-15T04:45:25.640Z"
   },
   {
    "duration": 946,
    "start_time": "2024-11-15T04:45:48.078Z"
   },
   {
    "duration": 14,
    "start_time": "2024-11-15T04:45:55.480Z"
   },
   {
    "duration": 74,
    "start_time": "2024-11-15T04:45:56.032Z"
   },
   {
    "duration": 35,
    "start_time": "2024-11-15T04:45:56.484Z"
   },
   {
    "duration": 27,
    "start_time": "2024-11-15T04:45:56.945Z"
   },
   {
    "duration": 19,
    "start_time": "2024-11-15T04:45:58.475Z"
   },
   {
    "duration": 3,
    "start_time": "2024-11-15T04:45:58.655Z"
   },
   {
    "duration": 17,
    "start_time": "2024-11-15T04:45:58.831Z"
   },
   {
    "duration": 9,
    "start_time": "2024-11-15T04:45:58.995Z"
   },
   {
    "duration": 5,
    "start_time": "2024-11-15T04:45:59.489Z"
   },
   {
    "duration": 5,
    "start_time": "2024-11-15T04:46:00.032Z"
   },
   {
    "duration": 868,
    "start_time": "2024-11-15T04:46:00.634Z"
   },
   {
    "duration": 736,
    "start_time": "2024-11-15T04:46:01.504Z"
   },
   {
    "duration": 115,
    "start_time": "2024-11-15T04:46:02.242Z"
   },
   {
    "duration": 12,
    "start_time": "2024-11-15T04:46:02.360Z"
   },
   {
    "duration": 9,
    "start_time": "2024-11-15T04:46:02.374Z"
   },
   {
    "duration": 7,
    "start_time": "2024-11-15T04:46:02.384Z"
   },
   {
    "duration": 8,
    "start_time": "2024-11-15T04:46:02.392Z"
   },
   {
    "duration": 271,
    "start_time": "2024-11-15T04:46:02.483Z"
   },
   {
    "duration": 15,
    "start_time": "2024-11-15T04:46:02.756Z"
   },
   {
    "duration": 2206,
    "start_time": "2024-11-15T04:46:03.164Z"
   },
   {
    "duration": 421,
    "start_time": "2024-11-15T04:46:05.372Z"
   },
   {
    "duration": 404,
    "start_time": "2024-11-15T04:46:05.795Z"
   },
   {
    "duration": 0,
    "start_time": "2024-11-15T04:46:06.201Z"
   },
   {
    "duration": 0,
    "start_time": "2024-11-15T04:46:06.202Z"
   },
   {
    "duration": 0,
    "start_time": "2024-11-15T04:46:06.203Z"
   },
   {
    "duration": 0,
    "start_time": "2024-11-15T04:46:06.204Z"
   },
   {
    "duration": 0,
    "start_time": "2024-11-15T04:46:06.207Z"
   },
   {
    "duration": 6,
    "start_time": "2024-11-15T04:46:06.255Z"
   },
   {
    "duration": 4,
    "start_time": "2024-11-15T04:46:07.505Z"
   },
   {
    "duration": 154,
    "start_time": "2024-11-15T04:46:09.749Z"
   },
   {
    "duration": 142,
    "start_time": "2024-11-15T04:46:10.602Z"
   },
   {
    "duration": 1670,
    "start_time": "2024-11-15T04:46:12.035Z"
   },
   {
    "duration": 1411,
    "start_time": "2024-11-15T04:47:05.137Z"
   },
   {
    "duration": 11,
    "start_time": "2024-11-15T04:47:06.550Z"
   },
   {
    "duration": 103,
    "start_time": "2024-11-15T04:47:06.570Z"
   },
   {
    "duration": 46,
    "start_time": "2024-11-15T04:47:06.676Z"
   },
   {
    "duration": 47,
    "start_time": "2024-11-15T04:47:06.724Z"
   },
   {
    "duration": 23,
    "start_time": "2024-11-15T04:47:06.773Z"
   },
   {
    "duration": 3,
    "start_time": "2024-11-15T04:47:06.798Z"
   },
   {
    "duration": 16,
    "start_time": "2024-11-15T04:47:06.803Z"
   },
   {
    "duration": 9,
    "start_time": "2024-11-15T04:47:06.820Z"
   },
   {
    "duration": 4,
    "start_time": "2024-11-15T04:47:06.832Z"
   },
   {
    "duration": 36,
    "start_time": "2024-11-15T04:47:06.838Z"
   },
   {
    "duration": 0,
    "start_time": "2024-11-15T04:47:06.876Z"
   },
   {
    "duration": 0,
    "start_time": "2024-11-15T04:47:06.877Z"
   },
   {
    "duration": 0,
    "start_time": "2024-11-15T04:47:06.878Z"
   },
   {
    "duration": 0,
    "start_time": "2024-11-15T04:47:06.880Z"
   },
   {
    "duration": 0,
    "start_time": "2024-11-15T04:47:06.881Z"
   },
   {
    "duration": 0,
    "start_time": "2024-11-15T04:47:06.883Z"
   },
   {
    "duration": 0,
    "start_time": "2024-11-15T04:47:06.884Z"
   },
   {
    "duration": 0,
    "start_time": "2024-11-15T04:47:06.885Z"
   },
   {
    "duration": 0,
    "start_time": "2024-11-15T04:47:06.887Z"
   },
   {
    "duration": 0,
    "start_time": "2024-11-15T04:47:06.888Z"
   },
   {
    "duration": 0,
    "start_time": "2024-11-15T04:47:06.889Z"
   },
   {
    "duration": 0,
    "start_time": "2024-11-15T04:47:06.890Z"
   },
   {
    "duration": 0,
    "start_time": "2024-11-15T04:47:06.892Z"
   },
   {
    "duration": 0,
    "start_time": "2024-11-15T04:47:06.892Z"
   },
   {
    "duration": 0,
    "start_time": "2024-11-15T04:47:06.893Z"
   },
   {
    "duration": 0,
    "start_time": "2024-11-15T04:47:06.894Z"
   },
   {
    "duration": 0,
    "start_time": "2024-11-15T04:47:06.895Z"
   },
   {
    "duration": 0,
    "start_time": "2024-11-15T04:47:06.896Z"
   },
   {
    "duration": 0,
    "start_time": "2024-11-15T04:47:06.897Z"
   },
   {
    "duration": 0,
    "start_time": "2024-11-15T04:47:06.898Z"
   },
   {
    "duration": 0,
    "start_time": "2024-11-15T04:47:06.899Z"
   },
   {
    "duration": 0,
    "start_time": "2024-11-15T04:47:06.900Z"
   },
   {
    "duration": 0,
    "start_time": "2024-11-15T04:47:06.902Z"
   },
   {
    "duration": 3170,
    "start_time": "2024-11-15T08:21:17.939Z"
   },
   {
    "duration": 8,
    "start_time": "2024-11-15T08:21:21.111Z"
   },
   {
    "duration": 107,
    "start_time": "2024-11-15T08:21:21.122Z"
   },
   {
    "duration": 54,
    "start_time": "2024-11-15T08:21:21.232Z"
   },
   {
    "duration": 30,
    "start_time": "2024-11-15T08:21:21.288Z"
   },
   {
    "duration": 19,
    "start_time": "2024-11-15T08:21:21.321Z"
   },
   {
    "duration": 2,
    "start_time": "2024-11-15T08:21:21.342Z"
   },
   {
    "duration": 41,
    "start_time": "2024-11-15T08:21:21.346Z"
   },
   {
    "duration": 8,
    "start_time": "2024-11-15T08:21:21.389Z"
   },
   {
    "duration": 4,
    "start_time": "2024-11-15T08:21:21.400Z"
   },
   {
    "duration": 5,
    "start_time": "2024-11-15T08:21:21.406Z"
   },
   {
    "duration": 0,
    "start_time": "2024-11-15T08:21:21.413Z"
   },
   {
    "duration": 0,
    "start_time": "2024-11-15T08:21:21.414Z"
   },
   {
    "duration": 0,
    "start_time": "2024-11-15T08:21:21.415Z"
   },
   {
    "duration": 0,
    "start_time": "2024-11-15T08:21:21.416Z"
   },
   {
    "duration": 0,
    "start_time": "2024-11-15T08:21:21.417Z"
   },
   {
    "duration": 0,
    "start_time": "2024-11-15T08:21:21.419Z"
   },
   {
    "duration": 0,
    "start_time": "2024-11-15T08:21:21.420Z"
   },
   {
    "duration": 0,
    "start_time": "2024-11-15T08:21:21.421Z"
   },
   {
    "duration": 0,
    "start_time": "2024-11-15T08:21:21.422Z"
   },
   {
    "duration": 0,
    "start_time": "2024-11-15T08:21:21.423Z"
   },
   {
    "duration": 0,
    "start_time": "2024-11-15T08:21:21.424Z"
   },
   {
    "duration": 0,
    "start_time": "2024-11-15T08:21:21.425Z"
   },
   {
    "duration": 0,
    "start_time": "2024-11-15T08:21:21.426Z"
   },
   {
    "duration": 0,
    "start_time": "2024-11-15T08:21:21.427Z"
   },
   {
    "duration": 0,
    "start_time": "2024-11-15T08:21:21.428Z"
   },
   {
    "duration": 0,
    "start_time": "2024-11-15T08:21:21.429Z"
   },
   {
    "duration": 0,
    "start_time": "2024-11-15T08:21:21.430Z"
   },
   {
    "duration": 0,
    "start_time": "2024-11-15T08:21:21.431Z"
   },
   {
    "duration": 0,
    "start_time": "2024-11-15T08:21:21.432Z"
   },
   {
    "duration": 0,
    "start_time": "2024-11-15T08:21:21.434Z"
   },
   {
    "duration": 0,
    "start_time": "2024-11-15T08:21:21.435Z"
   },
   {
    "duration": 0,
    "start_time": "2024-11-15T08:21:21.436Z"
   },
   {
    "duration": 0,
    "start_time": "2024-11-15T08:21:21.437Z"
   },
   {
    "duration": 5,
    "start_time": "2024-11-15T08:21:29.869Z"
   },
   {
    "duration": 1424,
    "start_time": "2024-11-15T08:21:35.105Z"
   },
   {
    "duration": 8,
    "start_time": "2024-11-15T08:21:36.532Z"
   },
   {
    "duration": 108,
    "start_time": "2024-11-15T08:21:36.541Z"
   },
   {
    "duration": 51,
    "start_time": "2024-11-15T08:21:36.651Z"
   },
   {
    "duration": 31,
    "start_time": "2024-11-15T08:21:36.704Z"
   },
   {
    "duration": 21,
    "start_time": "2024-11-15T08:21:36.736Z"
   },
   {
    "duration": 3,
    "start_time": "2024-11-15T08:21:36.759Z"
   },
   {
    "duration": 17,
    "start_time": "2024-11-15T08:21:36.787Z"
   },
   {
    "duration": 8,
    "start_time": "2024-11-15T08:21:36.805Z"
   },
   {
    "duration": 4,
    "start_time": "2024-11-15T08:21:36.815Z"
   },
   {
    "duration": 5,
    "start_time": "2024-11-15T08:21:36.822Z"
   },
   {
    "duration": 919,
    "start_time": "2024-11-15T08:21:36.828Z"
   },
   {
    "duration": 807,
    "start_time": "2024-11-15T08:21:37.749Z"
   },
   {
    "duration": 116,
    "start_time": "2024-11-15T08:21:38.560Z"
   },
   {
    "duration": 13,
    "start_time": "2024-11-15T08:21:38.678Z"
   },
   {
    "duration": 7,
    "start_time": "2024-11-15T08:21:38.693Z"
   },
   {
    "duration": 6,
    "start_time": "2024-11-15T08:21:38.701Z"
   },
   {
    "duration": 6,
    "start_time": "2024-11-15T08:21:38.709Z"
   },
   {
    "duration": 316,
    "start_time": "2024-11-15T08:21:38.717Z"
   },
   {
    "duration": 13,
    "start_time": "2024-11-15T08:21:39.035Z"
   },
   {
    "duration": 2200,
    "start_time": "2024-11-15T08:21:39.050Z"
   },
   {
    "duration": 428,
    "start_time": "2024-11-15T08:21:41.252Z"
   },
   {
    "duration": 556,
    "start_time": "2024-11-15T08:21:41.682Z"
   },
   {
    "duration": 0,
    "start_time": "2024-11-15T08:21:42.239Z"
   },
   {
    "duration": 0,
    "start_time": "2024-11-15T08:21:42.240Z"
   },
   {
    "duration": 0,
    "start_time": "2024-11-15T08:21:42.241Z"
   },
   {
    "duration": 0,
    "start_time": "2024-11-15T08:21:42.242Z"
   },
   {
    "duration": 0,
    "start_time": "2024-11-15T08:21:42.243Z"
   },
   {
    "duration": 0,
    "start_time": "2024-11-15T08:21:42.244Z"
   },
   {
    "duration": 0,
    "start_time": "2024-11-15T08:21:42.245Z"
   },
   {
    "duration": 0,
    "start_time": "2024-11-15T08:21:42.247Z"
   },
   {
    "duration": 0,
    "start_time": "2024-11-15T08:21:42.248Z"
   },
   {
    "duration": 0,
    "start_time": "2024-11-15T08:21:42.250Z"
   },
   {
    "duration": 0,
    "start_time": "2024-11-15T08:21:42.252Z"
   },
   {
    "duration": 156,
    "start_time": "2024-11-15T08:25:52.295Z"
   },
   {
    "duration": 13,
    "start_time": "2024-11-15T08:28:02.843Z"
   },
   {
    "duration": 12,
    "start_time": "2024-11-15T08:29:52.728Z"
   },
   {
    "duration": 12,
    "start_time": "2024-11-15T08:30:34.416Z"
   },
   {
    "duration": 13,
    "start_time": "2024-11-15T08:31:15.853Z"
   },
   {
    "duration": 12,
    "start_time": "2024-11-15T08:31:26.469Z"
   },
   {
    "duration": 3204,
    "start_time": "2024-11-15T08:33:14.592Z"
   },
   {
    "duration": 944,
    "start_time": "2024-11-15T08:33:55.881Z"
   },
   {
    "duration": 13,
    "start_time": "2024-11-15T08:34:41.909Z"
   },
   {
    "duration": 7,
    "start_time": "2024-11-15T08:34:54.808Z"
   },
   {
    "duration": 1449,
    "start_time": "2024-11-15T08:35:01.461Z"
   },
   {
    "duration": 8,
    "start_time": "2024-11-15T08:35:02.913Z"
   },
   {
    "duration": 108,
    "start_time": "2024-11-15T08:35:02.923Z"
   },
   {
    "duration": 47,
    "start_time": "2024-11-15T08:35:03.033Z"
   },
   {
    "duration": 30,
    "start_time": "2024-11-15T08:35:03.082Z"
   },
   {
    "duration": 38,
    "start_time": "2024-11-15T08:35:03.114Z"
   },
   {
    "duration": 3,
    "start_time": "2024-11-15T08:35:03.153Z"
   },
   {
    "duration": 18,
    "start_time": "2024-11-15T08:35:03.157Z"
   },
   {
    "duration": 9,
    "start_time": "2024-11-15T08:35:03.177Z"
   },
   {
    "duration": 4,
    "start_time": "2024-11-15T08:35:03.189Z"
   },
   {
    "duration": 6,
    "start_time": "2024-11-15T08:35:03.195Z"
   },
   {
    "duration": 901,
    "start_time": "2024-11-15T08:35:03.202Z"
   },
   {
    "duration": 772,
    "start_time": "2024-11-15T08:35:04.104Z"
   },
   {
    "duration": 114,
    "start_time": "2024-11-15T08:35:04.878Z"
   },
   {
    "duration": 9,
    "start_time": "2024-11-15T08:35:04.993Z"
   },
   {
    "duration": 7,
    "start_time": "2024-11-15T08:35:05.004Z"
   },
   {
    "duration": 5,
    "start_time": "2024-11-15T08:35:05.013Z"
   },
   {
    "duration": 26,
    "start_time": "2024-11-15T08:35:05.020Z"
   },
   {
    "duration": 298,
    "start_time": "2024-11-15T08:35:05.048Z"
   },
   {
    "duration": 13,
    "start_time": "2024-11-15T08:35:05.347Z"
   },
   {
    "duration": 2189,
    "start_time": "2024-11-15T08:35:05.362Z"
   },
   {
    "duration": 422,
    "start_time": "2024-11-15T08:35:07.553Z"
   },
   {
    "duration": 6,
    "start_time": "2024-11-15T08:35:07.977Z"
   },
   {
    "duration": 573,
    "start_time": "2024-11-15T08:35:07.985Z"
   },
   {
    "duration": 0,
    "start_time": "2024-11-15T08:35:08.560Z"
   },
   {
    "duration": 0,
    "start_time": "2024-11-15T08:35:08.561Z"
   },
   {
    "duration": 0,
    "start_time": "2024-11-15T08:35:08.562Z"
   },
   {
    "duration": 0,
    "start_time": "2024-11-15T08:35:08.564Z"
   },
   {
    "duration": 0,
    "start_time": "2024-11-15T08:35:08.565Z"
   },
   {
    "duration": 0,
    "start_time": "2024-11-15T08:35:08.566Z"
   },
   {
    "duration": 0,
    "start_time": "2024-11-15T08:35:08.568Z"
   },
   {
    "duration": 0,
    "start_time": "2024-11-15T08:35:08.570Z"
   },
   {
    "duration": 0,
    "start_time": "2024-11-15T08:35:08.571Z"
   },
   {
    "duration": 0,
    "start_time": "2024-11-15T08:35:08.575Z"
   },
   {
    "duration": 39,
    "start_time": "2024-11-15T08:38:55.420Z"
   },
   {
    "duration": 109,
    "start_time": "2024-11-15T08:39:20.685Z"
   },
   {
    "duration": 14,
    "start_time": "2024-11-15T08:39:23.790Z"
   },
   {
    "duration": 13,
    "start_time": "2024-11-15T08:39:44.816Z"
   },
   {
    "duration": 5,
    "start_time": "2024-11-15T08:40:55.127Z"
   },
   {
    "duration": 39,
    "start_time": "2024-11-15T08:41:01.064Z"
   },
   {
    "duration": 308,
    "start_time": "2024-11-15T08:41:13.167Z"
   },
   {
    "duration": 402,
    "start_time": "2024-11-15T08:41:13.778Z"
   },
   {
    "duration": 44,
    "start_time": "2024-11-15T08:41:14.819Z"
   },
   {
    "duration": 35,
    "start_time": "2024-11-15T08:41:17.720Z"
   },
   {
    "duration": 54,
    "start_time": "2024-11-15T08:41:18.297Z"
   },
   {
    "duration": 5,
    "start_time": "2024-11-15T08:41:21.546Z"
   },
   {
    "duration": 4,
    "start_time": "2024-11-15T08:41:22.309Z"
   },
   {
    "duration": 6,
    "start_time": "2024-11-15T08:41:23.879Z"
   },
   {
    "duration": 6,
    "start_time": "2024-11-15T08:41:25.477Z"
   },
   {
    "duration": 4,
    "start_time": "2024-11-15T08:41:27.101Z"
   },
   {
    "duration": 153,
    "start_time": "2024-11-15T08:41:29.705Z"
   },
   {
    "duration": 141,
    "start_time": "2024-11-15T08:41:31.702Z"
   },
   {
    "duration": 3245,
    "start_time": "2024-11-15T12:06:47.649Z"
   },
   {
    "duration": 9,
    "start_time": "2024-11-15T12:06:50.904Z"
   },
   {
    "duration": 109,
    "start_time": "2024-11-15T12:06:50.915Z"
   },
   {
    "duration": 41,
    "start_time": "2024-11-15T12:06:51.027Z"
   },
   {
    "duration": 45,
    "start_time": "2024-11-15T12:06:51.070Z"
   },
   {
    "duration": 20,
    "start_time": "2024-11-15T12:06:51.118Z"
   },
   {
    "duration": 3,
    "start_time": "2024-11-15T12:06:51.140Z"
   },
   {
    "duration": 17,
    "start_time": "2024-11-15T12:06:51.145Z"
   },
   {
    "duration": 10,
    "start_time": "2024-11-15T12:06:51.164Z"
   },
   {
    "duration": 5,
    "start_time": "2024-11-15T12:06:51.207Z"
   },
   {
    "duration": 5,
    "start_time": "2024-11-15T12:06:51.214Z"
   },
   {
    "duration": 968,
    "start_time": "2024-11-15T12:06:51.221Z"
   },
   {
    "duration": 827,
    "start_time": "2024-11-15T12:06:52.190Z"
   },
   {
    "duration": 118,
    "start_time": "2024-11-15T12:06:53.019Z"
   },
   {
    "duration": 8,
    "start_time": "2024-11-15T12:06:53.140Z"
   },
   {
    "duration": 7,
    "start_time": "2024-11-15T12:06:53.149Z"
   },
   {
    "duration": 5,
    "start_time": "2024-11-15T12:06:53.158Z"
   },
   {
    "duration": 7,
    "start_time": "2024-11-15T12:06:53.165Z"
   },
   {
    "duration": 314,
    "start_time": "2024-11-15T12:06:53.173Z"
   },
   {
    "duration": 24,
    "start_time": "2024-11-15T12:06:53.489Z"
   },
   {
    "duration": 2184,
    "start_time": "2024-11-15T12:06:53.515Z"
   },
   {
    "duration": 424,
    "start_time": "2024-11-15T12:06:55.701Z"
   },
   {
    "duration": 7,
    "start_time": "2024-11-15T12:06:56.126Z"
   },
   {
    "duration": 120,
    "start_time": "2024-11-15T12:06:56.135Z"
   },
   {
    "duration": 38,
    "start_time": "2024-11-15T12:06:56.256Z"
   },
   {
    "duration": 4,
    "start_time": "2024-11-15T12:06:56.305Z"
   },
   {
    "duration": 4,
    "start_time": "2024-11-15T12:06:56.311Z"
   },
   {
    "duration": 5,
    "start_time": "2024-11-15T12:06:56.320Z"
   },
   {
    "duration": 5,
    "start_time": "2024-11-15T12:06:56.326Z"
   },
   {
    "duration": 3,
    "start_time": "2024-11-15T12:06:56.333Z"
   },
   {
    "duration": 196,
    "start_time": "2024-11-15T12:06:56.338Z"
   },
   {
    "duration": 143,
    "start_time": "2024-11-15T12:06:56.536Z"
   },
   {
    "duration": 1655,
    "start_time": "2024-11-15T12:06:56.681Z"
   },
   {
    "duration": 185,
    "start_time": "2024-11-15T12:06:58.338Z"
   },
   {
    "duration": 155,
    "start_time": "2024-11-15T20:19:49.150Z"
   },
   {
    "duration": 12,
    "start_time": "2024-11-15T20:20:16.923Z"
   },
   {
    "duration": 12,
    "start_time": "2024-11-15T20:20:45.268Z"
   },
   {
    "duration": 3222,
    "start_time": "2024-11-15T20:21:02.725Z"
   },
   {
    "duration": 669,
    "start_time": "2024-11-15T20:21:10.340Z"
   }
  ],
  "kernelspec": {
   "display_name": "Python 3 (ipykernel)",
   "language": "python",
   "name": "python3"
  },
  "language_info": {
   "codemirror_mode": {
    "name": "ipython",
    "version": 3
   },
   "file_extension": ".py",
   "mimetype": "text/x-python",
   "name": "python",
   "nbconvert_exporter": "python",
   "pygments_lexer": "ipython3",
   "version": "3.9.19"
  },
  "toc": {
   "base_numbering": 1,
   "nav_menu": {},
   "number_sections": true,
   "sideBar": true,
   "skip_h1_title": true,
   "title_cell": "Table of Contents",
   "title_sidebar": "Contents",
   "toc_cell": false,
   "toc_position": {
    "height": "calc(100% - 180px)",
    "left": "10px",
    "top": "150px",
    "width": "416px"
   },
   "toc_section_display": true,
   "toc_window_display": true
  },
  "vscode": {
   "interpreter": {
    "hash": "01a7be9ec63e704a62cefc5fe7a4756944464ee731be31632bdf42a4cb4688cf"
   }
  }
 },
 "nbformat": 4,
 "nbformat_minor": 5
}
